{
 "cells": [
  {
   "cell_type": "code",
   "execution_count": 1,
   "metadata": {},
   "outputs": [],
   "source": [
    "import numpy as np\n",
    "import pandas as pd\n",
    "from sklearn.model_selection import train_test_split, cross_val_score, KFold\n",
    "from sklearn.linear_model import LinearRegression,Ridge,Lasso\n",
    "from sklearn.ensemble import RandomForestRegressor,GradientBoostingRegressor\n",
    "from sklearn.tree import DecisionTreeRegressor\n",
    "from sklearn.svm import SVR\n",
    "from sklearn.neighbors import KNeighborsRegressor\n",
    "from sklearn.metrics import mean_squared_error, r2_score,mean_absolute_percentage_error,mean_absolute_error\n",
    "import pickle"
   ]
  },
  {
   "cell_type": "code",
   "execution_count": 2,
   "metadata": {},
   "outputs": [
    {
     "data": {
      "text/html": [
       "<div>\n",
       "<style scoped>\n",
       "    .dataframe tbody tr th:only-of-type {\n",
       "        vertical-align: middle;\n",
       "    }\n",
       "\n",
       "    .dataframe tbody tr th {\n",
       "        vertical-align: top;\n",
       "    }\n",
       "\n",
       "    .dataframe thead th {\n",
       "        text-align: right;\n",
       "    }\n",
       "</style>\n",
       "<table border=\"1\" class=\"dataframe\">\n",
       "  <thead>\n",
       "    <tr style=\"text-align: right;\">\n",
       "      <th></th>\n",
       "      <th>km</th>\n",
       "      <th>Engine Displacement</th>\n",
       "      <th>Max Power</th>\n",
       "      <th>No of Cylinder</th>\n",
       "      <th>Mileage</th>\n",
       "      <th>price (lakh)</th>\n",
       "      <th>Insurance_Encoded</th>\n",
       "      <th>modelyear_Encoded</th>\n",
       "      <th>owner_Encoded</th>\n",
       "      <th>cylinder_Encoded</th>\n",
       "      <th>...</th>\n",
       "      <th>color_Encoded</th>\n",
       "      <th>seats_Encoded</th>\n",
       "      <th>streeingtype_Encoded</th>\n",
       "      <th>drivetype_Encoded</th>\n",
       "      <th>ft_Encoded</th>\n",
       "      <th>transmission_Encoded</th>\n",
       "      <th>Length</th>\n",
       "      <th>Width</th>\n",
       "      <th>Wheel Base</th>\n",
       "      <th>Cargo Volumn</th>\n",
       "    </tr>\n",
       "  </thead>\n",
       "  <tbody>\n",
       "    <tr>\n",
       "      <th>0</th>\n",
       "      <td>20000</td>\n",
       "      <td>998</td>\n",
       "      <td>118.36</td>\n",
       "      <td>3.0</td>\n",
       "      <td>17.00</td>\n",
       "      <td>11.50</td>\n",
       "      <td>1.0</td>\n",
       "      <td>27.0</td>\n",
       "      <td>4.0</td>\n",
       "      <td>2</td>\n",
       "      <td>...</td>\n",
       "      <td>8</td>\n",
       "      <td>3</td>\n",
       "      <td>1</td>\n",
       "      <td>6</td>\n",
       "      <td>4</td>\n",
       "      <td>0</td>\n",
       "      <td>3995</td>\n",
       "      <td>1790</td>\n",
       "      <td>2500</td>\n",
       "      <td>392</td>\n",
       "    </tr>\n",
       "    <tr>\n",
       "      <th>1</th>\n",
       "      <td>20687</td>\n",
       "      <td>1196</td>\n",
       "      <td>73.00</td>\n",
       "      <td>4.0</td>\n",
       "      <td>15.37</td>\n",
       "      <td>4.15</td>\n",
       "      <td>2.0</td>\n",
       "      <td>20.0</td>\n",
       "      <td>4.0</td>\n",
       "      <td>3</td>\n",
       "      <td>...</td>\n",
       "      <td>50</td>\n",
       "      <td>5</td>\n",
       "      <td>3</td>\n",
       "      <td>8</td>\n",
       "      <td>4</td>\n",
       "      <td>1</td>\n",
       "      <td>3675</td>\n",
       "      <td>1475</td>\n",
       "      <td>2350</td>\n",
       "      <td>540</td>\n",
       "    </tr>\n",
       "    <tr>\n",
       "      <th>2</th>\n",
       "      <td>30000</td>\n",
       "      <td>999</td>\n",
       "      <td>98.63</td>\n",
       "      <td>3.0</td>\n",
       "      <td>20.00</td>\n",
       "      <td>7.50</td>\n",
       "      <td>1.0</td>\n",
       "      <td>26.0</td>\n",
       "      <td>4.0</td>\n",
       "      <td>2</td>\n",
       "      <td>...</td>\n",
       "      <td>78</td>\n",
       "      <td>3</td>\n",
       "      <td>1</td>\n",
       "      <td>6</td>\n",
       "      <td>4</td>\n",
       "      <td>1</td>\n",
       "      <td>3994</td>\n",
       "      <td>1758</td>\n",
       "      <td>2500</td>\n",
       "      <td>336</td>\n",
       "    </tr>\n",
       "    <tr>\n",
       "      <th>3</th>\n",
       "      <td>59247</td>\n",
       "      <td>1086</td>\n",
       "      <td>68.05</td>\n",
       "      <td>4.0</td>\n",
       "      <td>19.81</td>\n",
       "      <td>3.98</td>\n",
       "      <td>2.0</td>\n",
       "      <td>20.0</td>\n",
       "      <td>4.0</td>\n",
       "      <td>3</td>\n",
       "      <td>...</td>\n",
       "      <td>102</td>\n",
       "      <td>3</td>\n",
       "      <td>4</td>\n",
       "      <td>6</td>\n",
       "      <td>4</td>\n",
       "      <td>1</td>\n",
       "      <td>3585</td>\n",
       "      <td>1595</td>\n",
       "      <td>2380</td>\n",
       "      <td>225</td>\n",
       "    </tr>\n",
       "    <tr>\n",
       "      <th>4</th>\n",
       "      <td>50000</td>\n",
       "      <td>1199</td>\n",
       "      <td>88.70</td>\n",
       "      <td>4.0</td>\n",
       "      <td>18.70</td>\n",
       "      <td>5.50</td>\n",
       "      <td>1.0</td>\n",
       "      <td>20.0</td>\n",
       "      <td>4.0</td>\n",
       "      <td>3</td>\n",
       "      <td>...</td>\n",
       "      <td>78</td>\n",
       "      <td>3</td>\n",
       "      <td>4</td>\n",
       "      <td>6</td>\n",
       "      <td>4</td>\n",
       "      <td>1</td>\n",
       "      <td>3955</td>\n",
       "      <td>1694</td>\n",
       "      <td>2530</td>\n",
       "      <td>354</td>\n",
       "    </tr>\n",
       "    <tr>\n",
       "      <th>...</th>\n",
       "      <td>...</td>\n",
       "      <td>...</td>\n",
       "      <td>...</td>\n",
       "      <td>...</td>\n",
       "      <td>...</td>\n",
       "      <td>...</td>\n",
       "      <td>...</td>\n",
       "      <td>...</td>\n",
       "      <td>...</td>\n",
       "      <td>...</td>\n",
       "      <td>...</td>\n",
       "      <td>...</td>\n",
       "      <td>...</td>\n",
       "      <td>...</td>\n",
       "      <td>...</td>\n",
       "      <td>...</td>\n",
       "      <td>...</td>\n",
       "      <td>...</td>\n",
       "      <td>...</td>\n",
       "      <td>...</td>\n",
       "      <td>...</td>\n",
       "    </tr>\n",
       "    <tr>\n",
       "      <th>8364</th>\n",
       "      <td>60000</td>\n",
       "      <td>2179</td>\n",
       "      <td>140.00</td>\n",
       "      <td>4.0</td>\n",
       "      <td>15.10</td>\n",
       "      <td>7.00</td>\n",
       "      <td>1.0</td>\n",
       "      <td>18.0</td>\n",
       "      <td>4.0</td>\n",
       "      <td>3</td>\n",
       "      <td>...</td>\n",
       "      <td>78</td>\n",
       "      <td>5</td>\n",
       "      <td>4</td>\n",
       "      <td>6</td>\n",
       "      <td>1</td>\n",
       "      <td>1</td>\n",
       "      <td>4585</td>\n",
       "      <td>1890</td>\n",
       "      <td>2700</td>\n",
       "      <td>418</td>\n",
       "    </tr>\n",
       "    <tr>\n",
       "      <th>8365</th>\n",
       "      <td>50000</td>\n",
       "      <td>2993</td>\n",
       "      <td>270.90</td>\n",
       "      <td>6.0</td>\n",
       "      <td>14.74</td>\n",
       "      <td>20.00</td>\n",
       "      <td>1.0</td>\n",
       "      <td>19.0</td>\n",
       "      <td>4.0</td>\n",
       "      <td>5</td>\n",
       "      <td>...</td>\n",
       "      <td>9</td>\n",
       "      <td>3</td>\n",
       "      <td>4</td>\n",
       "      <td>8</td>\n",
       "      <td>1</td>\n",
       "      <td>0</td>\n",
       "      <td>4961</td>\n",
       "      <td>1877</td>\n",
       "      <td>2909</td>\n",
       "      <td>540</td>\n",
       "    </tr>\n",
       "    <tr>\n",
       "      <th>8366</th>\n",
       "      <td>120000</td>\n",
       "      <td>1995</td>\n",
       "      <td>187.74</td>\n",
       "      <td>4.0</td>\n",
       "      <td>20.37</td>\n",
       "      <td>35.00</td>\n",
       "      <td>1.0</td>\n",
       "      <td>23.0</td>\n",
       "      <td>2.0</td>\n",
       "      <td>3</td>\n",
       "      <td>...</td>\n",
       "      <td>9</td>\n",
       "      <td>3</td>\n",
       "      <td>4</td>\n",
       "      <td>8</td>\n",
       "      <td>1</td>\n",
       "      <td>0</td>\n",
       "      <td>4936</td>\n",
       "      <td>2126</td>\n",
       "      <td>2975</td>\n",
       "      <td>520</td>\n",
       "    </tr>\n",
       "    <tr>\n",
       "      <th>8367</th>\n",
       "      <td>50000</td>\n",
       "      <td>1497</td>\n",
       "      <td>108.50</td>\n",
       "      <td>4.0</td>\n",
       "      <td>21.50</td>\n",
       "      <td>8.50</td>\n",
       "      <td>1.0</td>\n",
       "      <td>24.0</td>\n",
       "      <td>3.0</td>\n",
       "      <td>3</td>\n",
       "      <td>...</td>\n",
       "      <td>78</td>\n",
       "      <td>3</td>\n",
       "      <td>4</td>\n",
       "      <td>6</td>\n",
       "      <td>1</td>\n",
       "      <td>0</td>\n",
       "      <td>3994</td>\n",
       "      <td>1811</td>\n",
       "      <td>2498</td>\n",
       "      <td>350</td>\n",
       "    </tr>\n",
       "    <tr>\n",
       "      <th>8368</th>\n",
       "      <td>100000</td>\n",
       "      <td>2494</td>\n",
       "      <td>100.60</td>\n",
       "      <td>4.0</td>\n",
       "      <td>12.99</td>\n",
       "      <td>15.00</td>\n",
       "      <td>1.0</td>\n",
       "      <td>20.0</td>\n",
       "      <td>4.0</td>\n",
       "      <td>3</td>\n",
       "      <td>...</td>\n",
       "      <td>78</td>\n",
       "      <td>5</td>\n",
       "      <td>4</td>\n",
       "      <td>8</td>\n",
       "      <td>1</td>\n",
       "      <td>1</td>\n",
       "      <td>4585</td>\n",
       "      <td>1765</td>\n",
       "      <td>2750</td>\n",
       "      <td>300</td>\n",
       "    </tr>\n",
       "  </tbody>\n",
       "</table>\n",
       "<p>8369 rows × 26 columns</p>\n",
       "</div>"
      ],
      "text/plain": [
       "          km  Engine Displacement  Max Power  No of Cylinder  Mileage  \\\n",
       "0      20000                  998     118.36             3.0    17.00   \n",
       "1      20687                 1196      73.00             4.0    15.37   \n",
       "2      30000                  999      98.63             3.0    20.00   \n",
       "3      59247                 1086      68.05             4.0    19.81   \n",
       "4      50000                 1199      88.70             4.0    18.70   \n",
       "...      ...                  ...        ...             ...      ...   \n",
       "8364   60000                 2179     140.00             4.0    15.10   \n",
       "8365   50000                 2993     270.90             6.0    14.74   \n",
       "8366  120000                 1995     187.74             4.0    20.37   \n",
       "8367   50000                 1497     108.50             4.0    21.50   \n",
       "8368  100000                 2494     100.60             4.0    12.99   \n",
       "\n",
       "      price (lakh)  Insurance_Encoded  modelyear_Encoded  owner_Encoded  \\\n",
       "0            11.50                1.0               27.0            4.0   \n",
       "1             4.15                2.0               20.0            4.0   \n",
       "2             7.50                1.0               26.0            4.0   \n",
       "3             3.98                2.0               20.0            4.0   \n",
       "4             5.50                1.0               20.0            4.0   \n",
       "...            ...                ...                ...            ...   \n",
       "8364          7.00                1.0               18.0            4.0   \n",
       "8365         20.00                1.0               19.0            4.0   \n",
       "8366         35.00                1.0               23.0            2.0   \n",
       "8367          8.50                1.0               24.0            3.0   \n",
       "8368         15.00                1.0               20.0            4.0   \n",
       "\n",
       "      cylinder_Encoded  ...  color_Encoded  seats_Encoded  \\\n",
       "0                    2  ...              8              3   \n",
       "1                    3  ...             50              5   \n",
       "2                    2  ...             78              3   \n",
       "3                    3  ...            102              3   \n",
       "4                    3  ...             78              3   \n",
       "...                ...  ...            ...            ...   \n",
       "8364                 3  ...             78              5   \n",
       "8365                 5  ...              9              3   \n",
       "8366                 3  ...              9              3   \n",
       "8367                 3  ...             78              3   \n",
       "8368                 3  ...             78              5   \n",
       "\n",
       "      streeingtype_Encoded  drivetype_Encoded  ft_Encoded  \\\n",
       "0                        1                  6           4   \n",
       "1                        3                  8           4   \n",
       "2                        1                  6           4   \n",
       "3                        4                  6           4   \n",
       "4                        4                  6           4   \n",
       "...                    ...                ...         ...   \n",
       "8364                     4                  6           1   \n",
       "8365                     4                  8           1   \n",
       "8366                     4                  8           1   \n",
       "8367                     4                  6           1   \n",
       "8368                     4                  8           1   \n",
       "\n",
       "      transmission_Encoded  Length  Width  Wheel Base  Cargo Volumn  \n",
       "0                        0    3995   1790        2500           392  \n",
       "1                        1    3675   1475        2350           540  \n",
       "2                        1    3994   1758        2500           336  \n",
       "3                        1    3585   1595        2380           225  \n",
       "4                        1    3955   1694        2530           354  \n",
       "...                    ...     ...    ...         ...           ...  \n",
       "8364                     1    4585   1890        2700           418  \n",
       "8365                     0    4961   1877        2909           540  \n",
       "8366                     0    4936   2126        2975           520  \n",
       "8367                     0    3994   1811        2498           350  \n",
       "8368                     1    4585   1765        2750           300  \n",
       "\n",
       "[8369 rows x 26 columns]"
      ]
     },
     "execution_count": 2,
     "metadata": {},
     "output_type": "execute_result"
    }
   ],
   "source": [
    "df=pd.read_csv(\"cardheko_encoded.csv\")\n",
    "df"
   ]
  },
  {
   "cell_type": "code",
   "execution_count": 3,
   "metadata": {},
   "outputs": [
    {
     "data": {
      "text/plain": [
       "Index(['km', 'Engine Displacement', 'Max Power', 'No of Cylinder', 'Mileage',\n",
       "       'price (lakh)', 'Insurance_Encoded', 'modelyear_Encoded',\n",
       "       'owner_Encoded', 'cylinder_Encoded', 'oem_Encoded', 'bt_Encoded',\n",
       "       'model_Encoded', 'variantName_Encoded', 'engine_Encoded',\n",
       "       'city_Encoded', 'color_Encoded', 'seats_Encoded',\n",
       "       'streeingtype_Encoded', 'drivetype_Encoded', 'ft_Encoded',\n",
       "       'transmission_Encoded', 'Length', 'Width', 'Wheel Base',\n",
       "       'Cargo Volumn'],\n",
       "      dtype='object')"
      ]
     },
     "execution_count": 3,
     "metadata": {},
     "output_type": "execute_result"
    }
   ],
   "source": [
    "df.columns"
   ]
  },
  {
   "cell_type": "code",
   "execution_count": 3,
   "metadata": {},
   "outputs": [],
   "source": [
    "df.drop([\"Engine Displacement\",'No of Cylinder','model_Encoded','variantName_Encoded','engine_Encoded','streeingtype_Encoded', 'drivetype_Encoded','Length', 'Width',\n",
    "       'Cargo Volumn'],axis=1,inplace=True)"
   ]
  },
  {
   "cell_type": "code",
   "execution_count": 4,
   "metadata": {},
   "outputs": [],
   "source": [
    "df.drop_duplicates(inplace=True)"
   ]
  },
  {
   "cell_type": "code",
   "execution_count": 5,
   "metadata": {},
   "outputs": [],
   "source": [
    "df=df.reset_index(drop=True, inplace=False)"
   ]
  },
  {
   "cell_type": "code",
   "execution_count": 10,
   "metadata": {},
   "outputs": [
    {
     "data": {
      "text/plain": [
       "Index(['km', 'Max Power', 'Mileage', 'price (lakh)', 'Insurance Validity',\n",
       "       'modelYear', 'owner', 'No of Cylinder', 'oem', 'bt', 'city', 'Color',\n",
       "       'Seats', 'ft', 'transmission', 'Wheel Base'],\n",
       "      dtype='object')"
      ]
     },
     "execution_count": 10,
     "metadata": {},
     "output_type": "execute_result"
    }
   ],
   "source": [
    "df.columns"
   ]
  },
  {
   "cell_type": "code",
   "execution_count": 9,
   "metadata": {},
   "outputs": [],
   "source": [
    "df.columns = ['km', 'Max Power', 'Mileage','price (lakh)', 'Insurance Validity', 'modelYear', 'owner', \n",
    "              'No of Cylinder', 'oem', 'bt', 'city', 'Color', 'Seats', 'ft', 'transmission', 'Wheel Base']"
   ]
  },
  {
   "cell_type": "code",
   "execution_count": 32,
   "metadata": {},
   "outputs": [
    {
     "data": {
      "text/html": [
       "<div>\n",
       "<style scoped>\n",
       "    .dataframe tbody tr th:only-of-type {\n",
       "        vertical-align: middle;\n",
       "    }\n",
       "\n",
       "    .dataframe tbody tr th {\n",
       "        vertical-align: top;\n",
       "    }\n",
       "\n",
       "    .dataframe thead th {\n",
       "        text-align: right;\n",
       "    }\n",
       "</style>\n",
       "<table border=\"1\" class=\"dataframe\">\n",
       "  <thead>\n",
       "    <tr style=\"text-align: right;\">\n",
       "      <th></th>\n",
       "      <th>km</th>\n",
       "      <th>Max Power</th>\n",
       "      <th>Mileage</th>\n",
       "      <th>price (lakh)</th>\n",
       "      <th>Insurance_Encoded</th>\n",
       "      <th>modelyear_Encoded</th>\n",
       "      <th>owner_Encoded</th>\n",
       "      <th>cylinder_Encoded</th>\n",
       "      <th>oem_Encoded</th>\n",
       "      <th>bt_Encoded</th>\n",
       "      <th>city_Encoded</th>\n",
       "      <th>color_Encoded</th>\n",
       "      <th>seats_Encoded</th>\n",
       "      <th>ft_Encoded</th>\n",
       "      <th>transmission_Encoded</th>\n",
       "      <th>Wheel Base</th>\n",
       "    </tr>\n",
       "  </thead>\n",
       "  <tbody>\n",
       "    <tr>\n",
       "      <th>count</th>\n",
       "      <td>8149.000000</td>\n",
       "      <td>8149.000000</td>\n",
       "      <td>8149.000000</td>\n",
       "      <td>8149.000000</td>\n",
       "      <td>8149.000000</td>\n",
       "      <td>8149.000000</td>\n",
       "      <td>8149.000000</td>\n",
       "      <td>8149.000000</td>\n",
       "      <td>8149.000000</td>\n",
       "      <td>8149.000000</td>\n",
       "      <td>8149.000000</td>\n",
       "      <td>8149.000000</td>\n",
       "      <td>8149.000000</td>\n",
       "      <td>8149.000000</td>\n",
       "      <td>8149.000000</td>\n",
       "      <td>8149.000000</td>\n",
       "    </tr>\n",
       "    <tr>\n",
       "      <th>mean</th>\n",
       "      <td>57791.905633</td>\n",
       "      <td>102.971674</td>\n",
       "      <td>19.212960</td>\n",
       "      <td>8.869674</td>\n",
       "      <td>1.422874</td>\n",
       "      <td>21.509388</td>\n",
       "      <td>3.642656</td>\n",
       "      <td>2.772365</td>\n",
       "      <td>16.168610</td>\n",
       "      <td>4.967603</td>\n",
       "      <td>2.412689</td>\n",
       "      <td>78.458952</td>\n",
       "      <td>3.199043</td>\n",
       "      <td>2.993619</td>\n",
       "      <td>0.729292</td>\n",
       "      <td>2542.144435</td>\n",
       "    </tr>\n",
       "    <tr>\n",
       "      <th>std</th>\n",
       "      <td>33789.806671</td>\n",
       "      <td>40.214830</td>\n",
       "      <td>3.516438</td>\n",
       "      <td>9.774828</td>\n",
       "      <td>0.609890</td>\n",
       "      <td>3.874291</td>\n",
       "      <td>0.636731</td>\n",
       "      <td>0.525811</td>\n",
       "      <td>8.530392</td>\n",
       "      <td>2.705234</td>\n",
       "      <td>1.706392</td>\n",
       "      <td>35.958476</td>\n",
       "      <td>0.646082</td>\n",
       "      <td>1.426813</td>\n",
       "      <td>0.444353</td>\n",
       "      <td>146.379422</td>\n",
       "    </tr>\n",
       "    <tr>\n",
       "      <th>min</th>\n",
       "      <td>0.000000</td>\n",
       "      <td>35.000000</td>\n",
       "      <td>8.000000</td>\n",
       "      <td>0.201610</td>\n",
       "      <td>0.000000</td>\n",
       "      <td>0.000000</td>\n",
       "      <td>0.000000</td>\n",
       "      <td>0.000000</td>\n",
       "      <td>0.000000</td>\n",
       "      <td>0.000000</td>\n",
       "      <td>0.000000</td>\n",
       "      <td>0.000000</td>\n",
       "      <td>0.000000</td>\n",
       "      <td>0.000000</td>\n",
       "      <td>0.000000</td>\n",
       "      <td>2010.000000</td>\n",
       "    </tr>\n",
       "    <tr>\n",
       "      <th>25%</th>\n",
       "      <td>30300.000000</td>\n",
       "      <td>78.900000</td>\n",
       "      <td>17.000000</td>\n",
       "      <td>3.990000</td>\n",
       "      <td>1.000000</td>\n",
       "      <td>19.000000</td>\n",
       "      <td>3.000000</td>\n",
       "      <td>3.000000</td>\n",
       "      <td>9.000000</td>\n",
       "      <td>2.000000</td>\n",
       "      <td>1.000000</td>\n",
       "      <td>51.000000</td>\n",
       "      <td>3.000000</td>\n",
       "      <td>1.000000</td>\n",
       "      <td>0.000000</td>\n",
       "      <td>2425.000000</td>\n",
       "    </tr>\n",
       "    <tr>\n",
       "      <th>50%</th>\n",
       "      <td>54000.000000</td>\n",
       "      <td>88.500000</td>\n",
       "      <td>18.900000</td>\n",
       "      <td>6.000000</td>\n",
       "      <td>1.000000</td>\n",
       "      <td>22.000000</td>\n",
       "      <td>4.000000</td>\n",
       "      <td>3.000000</td>\n",
       "      <td>17.000000</td>\n",
       "      <td>7.000000</td>\n",
       "      <td>2.000000</td>\n",
       "      <td>78.000000</td>\n",
       "      <td>3.000000</td>\n",
       "      <td>4.000000</td>\n",
       "      <td>1.000000</td>\n",
       "      <td>2519.000000</td>\n",
       "    </tr>\n",
       "    <tr>\n",
       "      <th>75%</th>\n",
       "      <td>80000.000000</td>\n",
       "      <td>118.350000</td>\n",
       "      <td>21.400000</td>\n",
       "      <td>9.390000</td>\n",
       "      <td>2.000000</td>\n",
       "      <td>24.000000</td>\n",
       "      <td>4.000000</td>\n",
       "      <td>3.000000</td>\n",
       "      <td>20.000000</td>\n",
       "      <td>8.000000</td>\n",
       "      <td>4.000000</td>\n",
       "      <td>102.000000</td>\n",
       "      <td>3.000000</td>\n",
       "      <td>4.000000</td>\n",
       "      <td>1.000000</td>\n",
       "      <td>2610.000000</td>\n",
       "    </tr>\n",
       "    <tr>\n",
       "      <th>max</th>\n",
       "      <td>201161.000000</td>\n",
       "      <td>265.000000</td>\n",
       "      <td>32.520000</td>\n",
       "      <td>119.000000</td>\n",
       "      <td>3.000000</td>\n",
       "      <td>28.000000</td>\n",
       "      <td>5.000000</td>\n",
       "      <td>6.000000</td>\n",
       "      <td>32.000000</td>\n",
       "      <td>9.000000</td>\n",
       "      <td>5.000000</td>\n",
       "      <td>124.000000</td>\n",
       "      <td>7.000000</td>\n",
       "      <td>4.000000</td>\n",
       "      <td>1.000000</td>\n",
       "      <td>3150.000000</td>\n",
       "    </tr>\n",
       "  </tbody>\n",
       "</table>\n",
       "</div>"
      ],
      "text/plain": [
       "                  km    Max Power      Mileage  price (lakh)  \\\n",
       "count    8149.000000  8149.000000  8149.000000   8149.000000   \n",
       "mean    57791.905633   102.971674    19.212960      8.869674   \n",
       "std     33789.806671    40.214830     3.516438      9.774828   \n",
       "min         0.000000    35.000000     8.000000      0.201610   \n",
       "25%     30300.000000    78.900000    17.000000      3.990000   \n",
       "50%     54000.000000    88.500000    18.900000      6.000000   \n",
       "75%     80000.000000   118.350000    21.400000      9.390000   \n",
       "max    201161.000000   265.000000    32.520000    119.000000   \n",
       "\n",
       "       Insurance_Encoded  modelyear_Encoded  owner_Encoded  cylinder_Encoded  \\\n",
       "count        8149.000000        8149.000000    8149.000000       8149.000000   \n",
       "mean            1.422874          21.509388       3.642656          2.772365   \n",
       "std             0.609890           3.874291       0.636731          0.525811   \n",
       "min             0.000000           0.000000       0.000000          0.000000   \n",
       "25%             1.000000          19.000000       3.000000          3.000000   \n",
       "50%             1.000000          22.000000       4.000000          3.000000   \n",
       "75%             2.000000          24.000000       4.000000          3.000000   \n",
       "max             3.000000          28.000000       5.000000          6.000000   \n",
       "\n",
       "       oem_Encoded   bt_Encoded  city_Encoded  color_Encoded  seats_Encoded  \\\n",
       "count  8149.000000  8149.000000   8149.000000    8149.000000    8149.000000   \n",
       "mean     16.168610     4.967603      2.412689      78.458952       3.199043   \n",
       "std       8.530392     2.705234      1.706392      35.958476       0.646082   \n",
       "min       0.000000     0.000000      0.000000       0.000000       0.000000   \n",
       "25%       9.000000     2.000000      1.000000      51.000000       3.000000   \n",
       "50%      17.000000     7.000000      2.000000      78.000000       3.000000   \n",
       "75%      20.000000     8.000000      4.000000     102.000000       3.000000   \n",
       "max      32.000000     9.000000      5.000000     124.000000       7.000000   \n",
       "\n",
       "        ft_Encoded  transmission_Encoded   Wheel Base  \n",
       "count  8149.000000           8149.000000  8149.000000  \n",
       "mean      2.993619              0.729292  2542.144435  \n",
       "std       1.426813              0.444353   146.379422  \n",
       "min       0.000000              0.000000  2010.000000  \n",
       "25%       1.000000              0.000000  2425.000000  \n",
       "50%       4.000000              1.000000  2519.000000  \n",
       "75%       4.000000              1.000000  2610.000000  \n",
       "max       4.000000              1.000000  3150.000000  "
      ]
     },
     "execution_count": 32,
     "metadata": {},
     "output_type": "execute_result"
    }
   ],
   "source": [
    "df.describe()"
   ]
  },
  {
   "cell_type": "markdown",
   "metadata": {},
   "source": [
    "### outliers removing"
   ]
  },
  {
   "cell_type": "code",
   "execution_count": 6,
   "metadata": {},
   "outputs": [],
   "source": [
    "for i in df[['km','Max Power','Mileage','Wheel Base']]:\n",
    "    # Calculate Q1 (25th percentile) and Q3 (75th percentile)\n",
    "    Q1 = df[i].quantile(0.15)\n",
    "    Q3 = df[i].quantile(0.85)\n",
    "\n",
    "    # Calculate the IQR\n",
    "    IQR = Q3 - Q1\n",
    "\n",
    "    # Define the lower and upper bounds for the outliers\n",
    "    lower_bound = Q1 - 1.5 * IQR\n",
    "    upper_bound = Q3 + 1.5 * IQR\n",
    "\n",
    "    # Filter out rows that fall outside of the IQR bounds\n",
    "    df = df[(df[i] >= lower_bound) & (df[i] <= upper_bound)]"
   ]
  },
  {
   "cell_type": "code",
   "execution_count": 7,
   "metadata": {},
   "outputs": [
    {
     "data": {
      "text/html": [
       "<div>\n",
       "<style scoped>\n",
       "    .dataframe tbody tr th:only-of-type {\n",
       "        vertical-align: middle;\n",
       "    }\n",
       "\n",
       "    .dataframe tbody tr th {\n",
       "        vertical-align: top;\n",
       "    }\n",
       "\n",
       "    .dataframe thead th {\n",
       "        text-align: right;\n",
       "    }\n",
       "</style>\n",
       "<table border=\"1\" class=\"dataframe\">\n",
       "  <thead>\n",
       "    <tr style=\"text-align: right;\">\n",
       "      <th></th>\n",
       "      <th>km</th>\n",
       "      <th>Max Power</th>\n",
       "      <th>Mileage</th>\n",
       "      <th>price (lakh)</th>\n",
       "      <th>Insurance_Encoded</th>\n",
       "      <th>modelyear_Encoded</th>\n",
       "      <th>owner_Encoded</th>\n",
       "      <th>cylinder_Encoded</th>\n",
       "      <th>oem_Encoded</th>\n",
       "      <th>bt_Encoded</th>\n",
       "      <th>city_Encoded</th>\n",
       "      <th>color_Encoded</th>\n",
       "      <th>seats_Encoded</th>\n",
       "      <th>ft_Encoded</th>\n",
       "      <th>transmission_Encoded</th>\n",
       "      <th>Wheel Base</th>\n",
       "    </tr>\n",
       "  </thead>\n",
       "  <tbody>\n",
       "    <tr>\n",
       "      <th>0</th>\n",
       "      <td>20000</td>\n",
       "      <td>118.36</td>\n",
       "      <td>17.00</td>\n",
       "      <td>11.50</td>\n",
       "      <td>1.0</td>\n",
       "      <td>27.0</td>\n",
       "      <td>4.0</td>\n",
       "      <td>2</td>\n",
       "      <td>13</td>\n",
       "      <td>7</td>\n",
       "      <td>1</td>\n",
       "      <td>8</td>\n",
       "      <td>3</td>\n",
       "      <td>4</td>\n",
       "      <td>0</td>\n",
       "      <td>2500</td>\n",
       "    </tr>\n",
       "    <tr>\n",
       "      <th>1</th>\n",
       "      <td>20687</td>\n",
       "      <td>73.00</td>\n",
       "      <td>15.37</td>\n",
       "      <td>4.15</td>\n",
       "      <td>2.0</td>\n",
       "      <td>20.0</td>\n",
       "      <td>4.0</td>\n",
       "      <td>3</td>\n",
       "      <td>20</td>\n",
       "      <td>5</td>\n",
       "      <td>1</td>\n",
       "      <td>50</td>\n",
       "      <td>5</td>\n",
       "      <td>4</td>\n",
       "      <td>1</td>\n",
       "      <td>2350</td>\n",
       "    </tr>\n",
       "    <tr>\n",
       "      <th>2</th>\n",
       "      <td>30000</td>\n",
       "      <td>98.63</td>\n",
       "      <td>20.00</td>\n",
       "      <td>7.50</td>\n",
       "      <td>1.0</td>\n",
       "      <td>26.0</td>\n",
       "      <td>4.0</td>\n",
       "      <td>2</td>\n",
       "      <td>24</td>\n",
       "      <td>7</td>\n",
       "      <td>1</td>\n",
       "      <td>78</td>\n",
       "      <td>3</td>\n",
       "      <td>4</td>\n",
       "      <td>1</td>\n",
       "      <td>2500</td>\n",
       "    </tr>\n",
       "    <tr>\n",
       "      <th>3</th>\n",
       "      <td>59247</td>\n",
       "      <td>68.05</td>\n",
       "      <td>19.81</td>\n",
       "      <td>3.98</td>\n",
       "      <td>2.0</td>\n",
       "      <td>20.0</td>\n",
       "      <td>4.0</td>\n",
       "      <td>3</td>\n",
       "      <td>9</td>\n",
       "      <td>2</td>\n",
       "      <td>1</td>\n",
       "      <td>102</td>\n",
       "      <td>3</td>\n",
       "      <td>4</td>\n",
       "      <td>1</td>\n",
       "      <td>2380</td>\n",
       "    </tr>\n",
       "    <tr>\n",
       "      <th>4</th>\n",
       "      <td>50000</td>\n",
       "      <td>88.70</td>\n",
       "      <td>18.70</td>\n",
       "      <td>5.50</td>\n",
       "      <td>1.0</td>\n",
       "      <td>20.0</td>\n",
       "      <td>4.0</td>\n",
       "      <td>3</td>\n",
       "      <td>8</td>\n",
       "      <td>2</td>\n",
       "      <td>1</td>\n",
       "      <td>78</td>\n",
       "      <td>3</td>\n",
       "      <td>4</td>\n",
       "      <td>1</td>\n",
       "      <td>2530</td>\n",
       "    </tr>\n",
       "    <tr>\n",
       "      <th>...</th>\n",
       "      <td>...</td>\n",
       "      <td>...</td>\n",
       "      <td>...</td>\n",
       "      <td>...</td>\n",
       "      <td>...</td>\n",
       "      <td>...</td>\n",
       "      <td>...</td>\n",
       "      <td>...</td>\n",
       "      <td>...</td>\n",
       "      <td>...</td>\n",
       "      <td>...</td>\n",
       "      <td>...</td>\n",
       "      <td>...</td>\n",
       "      <td>...</td>\n",
       "      <td>...</td>\n",
       "      <td>...</td>\n",
       "    </tr>\n",
       "    <tr>\n",
       "      <th>8144</th>\n",
       "      <td>20000</td>\n",
       "      <td>187.70</td>\n",
       "      <td>16.55</td>\n",
       "      <td>55.00</td>\n",
       "      <td>1.0</td>\n",
       "      <td>23.0</td>\n",
       "      <td>4.0</td>\n",
       "      <td>3</td>\n",
       "      <td>1</td>\n",
       "      <td>7</td>\n",
       "      <td>3</td>\n",
       "      <td>78</td>\n",
       "      <td>3</td>\n",
       "      <td>1</td>\n",
       "      <td>0</td>\n",
       "      <td>2864</td>\n",
       "    </tr>\n",
       "    <tr>\n",
       "      <th>8145</th>\n",
       "      <td>60000</td>\n",
       "      <td>140.00</td>\n",
       "      <td>15.10</td>\n",
       "      <td>7.00</td>\n",
       "      <td>1.0</td>\n",
       "      <td>18.0</td>\n",
       "      <td>4.0</td>\n",
       "      <td>3</td>\n",
       "      <td>17</td>\n",
       "      <td>7</td>\n",
       "      <td>3</td>\n",
       "      <td>78</td>\n",
       "      <td>5</td>\n",
       "      <td>1</td>\n",
       "      <td>1</td>\n",
       "      <td>2700</td>\n",
       "    </tr>\n",
       "    <tr>\n",
       "      <th>8146</th>\n",
       "      <td>120000</td>\n",
       "      <td>187.74</td>\n",
       "      <td>20.37</td>\n",
       "      <td>35.00</td>\n",
       "      <td>1.0</td>\n",
       "      <td>23.0</td>\n",
       "      <td>2.0</td>\n",
       "      <td>3</td>\n",
       "      <td>1</td>\n",
       "      <td>8</td>\n",
       "      <td>3</td>\n",
       "      <td>9</td>\n",
       "      <td>3</td>\n",
       "      <td>1</td>\n",
       "      <td>0</td>\n",
       "      <td>2975</td>\n",
       "    </tr>\n",
       "    <tr>\n",
       "      <th>8147</th>\n",
       "      <td>50000</td>\n",
       "      <td>108.50</td>\n",
       "      <td>21.50</td>\n",
       "      <td>8.50</td>\n",
       "      <td>1.0</td>\n",
       "      <td>24.0</td>\n",
       "      <td>3.0</td>\n",
       "      <td>3</td>\n",
       "      <td>29</td>\n",
       "      <td>7</td>\n",
       "      <td>3</td>\n",
       "      <td>78</td>\n",
       "      <td>3</td>\n",
       "      <td>1</td>\n",
       "      <td>0</td>\n",
       "      <td>2498</td>\n",
       "    </tr>\n",
       "    <tr>\n",
       "      <th>8148</th>\n",
       "      <td>100000</td>\n",
       "      <td>100.60</td>\n",
       "      <td>12.99</td>\n",
       "      <td>15.00</td>\n",
       "      <td>1.0</td>\n",
       "      <td>20.0</td>\n",
       "      <td>4.0</td>\n",
       "      <td>3</td>\n",
       "      <td>30</td>\n",
       "      <td>4</td>\n",
       "      <td>3</td>\n",
       "      <td>78</td>\n",
       "      <td>5</td>\n",
       "      <td>1</td>\n",
       "      <td>1</td>\n",
       "      <td>2750</td>\n",
       "    </tr>\n",
       "  </tbody>\n",
       "</table>\n",
       "<p>8149 rows × 16 columns</p>\n",
       "</div>"
      ],
      "text/plain": [
       "          km  Max Power  Mileage  price (lakh)  Insurance_Encoded  \\\n",
       "0      20000     118.36    17.00         11.50                1.0   \n",
       "1      20687      73.00    15.37          4.15                2.0   \n",
       "2      30000      98.63    20.00          7.50                1.0   \n",
       "3      59247      68.05    19.81          3.98                2.0   \n",
       "4      50000      88.70    18.70          5.50                1.0   \n",
       "...      ...        ...      ...           ...                ...   \n",
       "8144   20000     187.70    16.55         55.00                1.0   \n",
       "8145   60000     140.00    15.10          7.00                1.0   \n",
       "8146  120000     187.74    20.37         35.00                1.0   \n",
       "8147   50000     108.50    21.50          8.50                1.0   \n",
       "8148  100000     100.60    12.99         15.00                1.0   \n",
       "\n",
       "      modelyear_Encoded  owner_Encoded  cylinder_Encoded  oem_Encoded  \\\n",
       "0                  27.0            4.0                 2           13   \n",
       "1                  20.0            4.0                 3           20   \n",
       "2                  26.0            4.0                 2           24   \n",
       "3                  20.0            4.0                 3            9   \n",
       "4                  20.0            4.0                 3            8   \n",
       "...                 ...            ...               ...          ...   \n",
       "8144               23.0            4.0                 3            1   \n",
       "8145               18.0            4.0                 3           17   \n",
       "8146               23.0            2.0                 3            1   \n",
       "8147               24.0            3.0                 3           29   \n",
       "8148               20.0            4.0                 3           30   \n",
       "\n",
       "      bt_Encoded  city_Encoded  color_Encoded  seats_Encoded  ft_Encoded  \\\n",
       "0              7             1              8              3           4   \n",
       "1              5             1             50              5           4   \n",
       "2              7             1             78              3           4   \n",
       "3              2             1            102              3           4   \n",
       "4              2             1             78              3           4   \n",
       "...          ...           ...            ...            ...         ...   \n",
       "8144           7             3             78              3           1   \n",
       "8145           7             3             78              5           1   \n",
       "8146           8             3              9              3           1   \n",
       "8147           7             3             78              3           1   \n",
       "8148           4             3             78              5           1   \n",
       "\n",
       "      transmission_Encoded  Wheel Base  \n",
       "0                        0        2500  \n",
       "1                        1        2350  \n",
       "2                        1        2500  \n",
       "3                        1        2380  \n",
       "4                        1        2530  \n",
       "...                    ...         ...  \n",
       "8144                     0        2864  \n",
       "8145                     1        2700  \n",
       "8146                     0        2975  \n",
       "8147                     0        2498  \n",
       "8148                     1        2750  \n",
       "\n",
       "[8149 rows x 16 columns]"
      ]
     },
     "execution_count": 7,
     "metadata": {},
     "output_type": "execute_result"
    }
   ],
   "source": [
    "df=df.reset_index(drop=True, inplace=False)\n",
    "df"
   ]
  },
  {
   "cell_type": "code",
   "execution_count": 9,
   "metadata": {},
   "outputs": [
    {
     "data": {
      "image/png": "[encoded data removed]",
      "text/plain": [
       "<Figure size 800x600 with 1 Axes>"
      ]
     },
     "metadata": {},
     "output_type": "display_data"
    }
   ],
   "source": [
    "import numpy as np\n",
    "import pandas as pd\n",
    "import seaborn as sns\n",
    "import matplotlib.pyplot as plt\n",
    "\n",
    "plt.figure(figsize=(8,6))\n",
    "sns.boxplot(x=df[\"Mileage\"])\n",
    "plt.title(\"Boxplot to Identify Outliers\")\n",
    "plt.show()\n",
    "\n"
   ]
  },
  {
   "cell_type": "code",
   "execution_count": 16,
   "metadata": {},
   "outputs": [
    {
     "data": {
      "image/png": "[encoded data removed]",
      "text/plain": [
       "<Figure size 640x480 with 1 Axes>"
      ]
     },
     "metadata": {},
     "output_type": "display_data"
    }
   ],
   "source": [
    "sns.histplot(df['price (lakh)'], bins=25, kde=True, color='red', edgecolor='black')\n",
    "plt.xlabel('price (lakh)')\n",
    "plt.ylabel('Frequency')\n",
    "plt.title('Histogram of Car price (lakh)')\n",
    "plt.show()"
   ]
  },
  {
   "cell_type": "code",
   "execution_count": 10,
   "metadata": {},
   "outputs": [
    {
     "data": {
      "text/plain": [
       "Text(0.5, 1.0, 'Mileage vs price')"
      ]
     },
     "execution_count": 10,
     "metadata": {},
     "output_type": "execute_result"
    },
    {
     "data": {
      "image/png": "[encoded data removed]",
      "text/plain": [
       "<Figure size 1000x600 with 1 Axes>"
      ]
     },
     "metadata": {},
     "output_type": "display_data"
    }
   ],
   "source": [
    "fig= plt.figure(figsize=(10,6))\n",
    "sns.scatterplot(x='Mileage', y='price (lakh)', data=df)\n",
    "plt.title('Mileage vs price')"
   ]
  },
  {
   "cell_type": "code",
   "execution_count": 6,
   "metadata": {},
   "outputs": [
    {
     "name": "stdout",
     "output_type": "stream",
     "text": [
      "Lower bound: -90423.77500000001, Upper bound: 204039.625\n"
     ]
    },
    {
     "ename": "NameError",
     "evalue": "name 'plt' is not defined",
     "output_type": "error",
     "traceback": [
      "\u001b[1;31m---------------------------------------------------------------------------\u001b[0m",
      "\u001b[1;31mNameError\u001b[0m                                 Traceback (most recent call last)",
      "Cell \u001b[1;32mIn[6], line 16\u001b[0m\n\u001b[0;32m     13\u001b[0m df_no_outliers \u001b[38;5;241m=\u001b[39m df[(df[\u001b[38;5;124m\"\u001b[39m\u001b[38;5;124mkm\u001b[39m\u001b[38;5;124m\"\u001b[39m] \u001b[38;5;241m>\u001b[39m\u001b[38;5;241m=\u001b[39m lower_bound) \u001b[38;5;241m&\u001b[39m (df[\u001b[38;5;124m\"\u001b[39m\u001b[38;5;124mkm\u001b[39m\u001b[38;5;124m\"\u001b[39m] \u001b[38;5;241m<\u001b[39m\u001b[38;5;241m=\u001b[39m upper_bound)]\n\u001b[0;32m     15\u001b[0m \u001b[38;5;66;03m# Plot the boxplot again after removing outliers\u001b[39;00m\n\u001b[1;32m---> 16\u001b[0m \u001b[43mplt\u001b[49m\u001b[38;5;241m.\u001b[39mfigure(figsize\u001b[38;5;241m=\u001b[39m(\u001b[38;5;241m8\u001b[39m,\u001b[38;5;241m6\u001b[39m))\n\u001b[0;32m     17\u001b[0m sns\u001b[38;5;241m.\u001b[39mboxplot(x\u001b[38;5;241m=\u001b[39mdf_no_outliers[\u001b[38;5;124m\"\u001b[39m\u001b[38;5;124mkm\u001b[39m\u001b[38;5;124m\"\u001b[39m])\n\u001b[0;32m     18\u001b[0m plt\u001b[38;5;241m.\u001b[39mtitle(\u001b[38;5;124m\"\u001b[39m\u001b[38;5;124mBoxplot After Removing Outliers\u001b[39m\u001b[38;5;124m\"\u001b[39m)\n",
      "\u001b[1;31mNameError\u001b[0m: name 'plt' is not defined"
     ]
    }
   ],
   "source": [
    "# Calculate the IQR\n",
    "Q1 = df[\"km\"].quantile(0.15)\n",
    "Q3 = df[\"km\"].quantile(0.85)\n",
    "IQR = Q3 - Q1\n",
    "\n",
    "# Define outlier thresholds\n",
    "lower_bound = Q1 - 1.5 * IQR\n",
    "upper_bound = Q3 + 1.5 * IQR\n",
    "\n",
    "print(f\"Lower bound: {lower_bound}, Upper bound: {upper_bound}\")\n",
    "\n",
    "# Remove outliers\n",
    "df_no_outliers = df[(df[\"km\"] >= lower_bound) & (df[\"km\"] <= upper_bound)]\n",
    "\n",
    "# Plot the boxplot again after removing outliers\n",
    "plt.figure(figsize=(8,6))\n",
    "sns.boxplot(x=df_no_outliers[\"km\"])\n",
    "plt.title(\"Boxplot After Removing Outliers\")\n",
    "plt.show()"
   ]
  },
  {
   "cell_type": "markdown",
   "metadata": {},
   "source": [
    "# all models and its scores"
   ]
  },
  {
   "cell_type": "markdown",
   "metadata": {},
   "source": [
    "### Using Cross Validation method"
   ]
  },
  {
   "cell_type": "code",
   "execution_count": 8,
   "metadata": {},
   "outputs": [],
   "source": [
    "X=df.drop(['price (lakh)'],axis=1)\n",
    "y=df['price (lakh)']\n",
    "X_train, X_test, y_train, y_test = train_test_split(X, y, test_size=0.2, random_state=42)"
   ]
  },
  {
   "cell_type": "code",
   "execution_count": 12,
   "metadata": {},
   "outputs": [],
   "source": [
    "models = {\n",
    "    \"Linear Regression\": LinearRegression(),\n",
    "    \"Decision Tree Regressor\": DecisionTreeRegressor(random_state=42),\n",
    "    \"Random Forest\": RandomForestRegressor(n_estimators=100, random_state=42),\n",
    "    \"Gradient Boosting Regressor\":GradientBoostingRegressor(random_state=42),\n",
    "    #\"Support Vector Regression\": SVR(kernel='linear'),\n",
    "    #\"KNeighbors Regressor\": KNeighborsRegressor()\n",
    "}\n"
   ]
  },
  {
   "cell_type": "code",
   "execution_count": 13,
   "metadata": {},
   "outputs": [
    {
     "name": "stdout",
     "output_type": "stream",
     "text": [
      "Linear Regression Cross-Validation Results: Mean MSE = 28.4670, Std Dev = -4.9868\n",
      "Decision Tree Regressor Cross-Validation Results: Mean MSE = 13.3378, Std Dev = -4.7943\n",
      "Random Forest Cross-Validation Results: Mean MSE = 7.2499, Std Dev = -4.7392\n",
      "Gradient Boosting Regressor Cross-Validation Results: Mean MSE = 8.2221, Std Dev = -3.0097\n"
     ]
    }
   ],
   "source": [
    "cv = KFold(n_splits=10, shuffle=True, random_state=42)\n",
    "\n",
    "cv_results = {}\n",
    "for model_name, model in models.items():\n",
    "    # Perform cross-validation with negative MSE because cross_val_score expects a \"higher is better\" metric\n",
    "    mse_scores = cross_val_score(model, X_train, y_train, cv=cv, scoring='neg_mean_squared_error')\n",
    "    cv_results[model_name] = mse_scores\n",
    "    print(f'{model_name} Cross-Validation Results: Mean MSE = {-mse_scores.mean():.4f}, Std Dev = {-mse_scores.std():.4f}')\n"
   ]
  },
  {
   "cell_type": "code",
   "execution_count": 14,
   "metadata": {},
   "outputs": [
    {
     "name": "stdout",
     "output_type": "stream",
     "text": [
      "Linear Regression Test Set Performance:\n",
      "  Mean Squared Error (MSE): 23.1907\n",
      "  Mean Absolute Error: 3.0478\n",
      "  Mean Absolute Percentile Error: 0.6250\n",
      "  R² Score: 0.7187\n",
      "\n",
      "Decision Tree Regressor Test Set Performance:\n",
      "  Mean Squared Error (MSE): 8.8973\n",
      "  Mean Absolute Error: 1.4784\n",
      "  Mean Absolute Percentile Error: 0.2008\n",
      "  R² Score: 0.8921\n",
      "\n",
      "Random Forest Test Set Performance:\n",
      "  Mean Squared Error (MSE): 5.3699\n",
      "  Mean Absolute Error: 1.0683\n",
      "  Mean Absolute Percentile Error: 0.1466\n",
      "  R² Score: 0.9349\n",
      "\n",
      "Gradient Boosting Regressor Test Set Performance:\n",
      "  Mean Squared Error (MSE): 6.0488\n",
      "  Mean Absolute Error: 1.2950\n",
      "  Mean Absolute Percentile Error: 0.1872\n",
      "  R² Score: 0.9266\n",
      "\n"
     ]
    }
   ],
   "source": [
    "for model_name, model in models.items():\n",
    "    model.fit(X_train, y_train)\n",
    "    \n",
    "    # Predict on the test set\n",
    "    y_pred = model.predict(X_test)\n",
    "    \n",
    "    # Calculate performance metrics\n",
    "    mse = mean_squared_error(y_test, y_pred)\n",
    "    r2 = r2_score(y_test, y_pred)\n",
    "    mae= mean_absolute_error(y_test, y_pred)\n",
    "    mape=mean_absolute_percentage_error(y_test, y_pred)\n",
    "    \n",
    "    print(f'{model_name} Test Set Performance:')\n",
    "    print(f'  Mean Squared Error (MSE): {mse:.4f}')\n",
    "    print(f'  Mean Absolute Error: {mae:.4f}')\n",
    "    print(f'  Mean Absolute Percentile Error: {mape:.4f}')\n",
    "    print(f'  R² Score: {r2:.4f}\\n')\n"
   ]
  },
  {
   "cell_type": "code",
   "execution_count": 8,
   "metadata": {},
   "outputs": [
    {
     "ename": "NameError",
     "evalue": "name 'model' is not defined",
     "output_type": "error",
     "traceback": [
      "\u001b[1;31m---------------------------------------------------------------------------\u001b[0m",
      "\u001b[1;31mNameError\u001b[0m                                 Traceback (most recent call last)",
      "Cell \u001b[1;32mIn[8], line 1\u001b[0m\n\u001b[1;32m----> 1\u001b[0m feature_importance \u001b[38;5;241m=\u001b[39m \u001b[43mmodel\u001b[49m\u001b[38;5;241m.\u001b[39mfeature_importances_\n\u001b[0;32m      3\u001b[0m \u001b[38;5;66;03m# Create a DataFrame for better visualization\u001b[39;00m\n\u001b[0;32m      4\u001b[0m importance_df \u001b[38;5;241m=\u001b[39m pd\u001b[38;5;241m.\u001b[39mDataFrame({\u001b[38;5;124m'\u001b[39m\u001b[38;5;124mFeature\u001b[39m\u001b[38;5;124m'\u001b[39m: [\u001b[38;5;124m'\u001b[39m\u001b[38;5;124mkm\u001b[39m\u001b[38;5;124m'\u001b[39m, \u001b[38;5;124m'\u001b[39m\u001b[38;5;124mMax Power\u001b[39m\u001b[38;5;124m'\u001b[39m, \u001b[38;5;124m'\u001b[39m\u001b[38;5;124mMileage\u001b[39m\u001b[38;5;124m'\u001b[39m, \u001b[38;5;124m'\u001b[39m\u001b[38;5;124mInsurance_Encoded\u001b[39m\u001b[38;5;124m'\u001b[39m,\n\u001b[0;32m      5\u001b[0m        \u001b[38;5;124m'\u001b[39m\u001b[38;5;124mmodelyear_Encoded\u001b[39m\u001b[38;5;124m'\u001b[39m, \u001b[38;5;124m'\u001b[39m\u001b[38;5;124mowner_Encoded\u001b[39m\u001b[38;5;124m'\u001b[39m, \u001b[38;5;124m'\u001b[39m\u001b[38;5;124mcylinder_Encoded\u001b[39m\u001b[38;5;124m'\u001b[39m, \u001b[38;5;124m'\u001b[39m\u001b[38;5;124moem_Encoded\u001b[39m\u001b[38;5;124m'\u001b[39m,\n\u001b[0;32m      6\u001b[0m        \u001b[38;5;124m'\u001b[39m\u001b[38;5;124mbt_Encoded\u001b[39m\u001b[38;5;124m'\u001b[39m, \u001b[38;5;124m'\u001b[39m\u001b[38;5;124mcity_Encoded\u001b[39m\u001b[38;5;124m'\u001b[39m, \u001b[38;5;124m'\u001b[39m\u001b[38;5;124mcolor_Encoded\u001b[39m\u001b[38;5;124m'\u001b[39m, \u001b[38;5;124m'\u001b[39m\u001b[38;5;124mseats_Encoded\u001b[39m\u001b[38;5;124m'\u001b[39m,\n\u001b[0;32m      7\u001b[0m        \u001b[38;5;124m'\u001b[39m\u001b[38;5;124mft_Encoded\u001b[39m\u001b[38;5;124m'\u001b[39m, \u001b[38;5;124m'\u001b[39m\u001b[38;5;124mtransmission_Encoded\u001b[39m\u001b[38;5;124m'\u001b[39m], \u001b[38;5;124m'\u001b[39m\u001b[38;5;124mImportance\u001b[39m\u001b[38;5;124m'\u001b[39m: feature_importance})\n",
      "\u001b[1;31mNameError\u001b[0m: name 'model' is not defined"
     ]
    }
   ],
   "source": [
    "feature_importance = model.feature_importances_\n",
    "\n",
    "# Create a DataFrame for better visualization\n",
    "importance_df = pd.DataFrame({'Feature': ['km', 'Max Power', 'Mileage', 'Insurance_Encoded',\n",
    "       'modelyear_Encoded', 'owner_Encoded', 'cylinder_Encoded', 'oem_Encoded',\n",
    "       'bt_Encoded', 'city_Encoded', 'color_Encoded', 'seats_Encoded',\n",
    "       'ft_Encoded', 'transmission_Encoded'], 'Importance': feature_importance})\n",
    "importance_df = importance_df.sort_values(by='Importance', ascending=False)\n",
    "print(importance_df)"
   ]
  },
  {
   "cell_type": "markdown",
   "metadata": {},
   "source": [
    "# ML models building"
   ]
  },
  {
   "cell_type": "code",
   "execution_count": 18,
   "metadata": {},
   "outputs": [
    {
     "name": "stdout",
     "output_type": "stream",
     "text": [
      "price (lakh)            1.000000\n",
      "Max Power               0.719966\n",
      "Wheel Base              0.620872\n",
      "modelyear_Encoded       0.516420\n",
      "bt_Encoded              0.387200\n",
      "seats_Encoded           0.225545\n",
      "owner_Encoded           0.219471\n",
      "cylinder_Encoded        0.193003\n",
      "Insurance_Encoded       0.088222\n",
      "oem_Encoded             0.027421\n",
      "color_Encoded          -0.034213\n",
      "city_Encoded           -0.111416\n",
      "ft_Encoded             -0.262861\n",
      "km                     -0.279109\n",
      "Mileage                -0.336999\n",
      "transmission_Encoded   -0.421477\n",
      "Name: price (lakh), dtype: float64\n"
     ]
    }
   ],
   "source": [
    "corr_matrix=df.corr()\n",
    "corr_with_target = corr_matrix['price (lakh)'].sort_values(ascending=False)\n",
    "print(corr_with_target)"
   ]
  },
  {
   "cell_type": "markdown",
   "metadata": {},
   "source": [
    "### Train Test Split"
   ]
  },
  {
   "cell_type": "code",
   "execution_count": 9,
   "metadata": {},
   "outputs": [],
   "source": [
    "value=df.drop(['price (lakh)'],axis=1)\n",
    "tar=df['price (lakh)']\n",
    "train_data, test_data, train_lab, test_lab = train_test_split(value, tar, test_size= 0.20, random_state= 42)"
   ]
  },
  {
   "cell_type": "markdown",
   "metadata": {},
   "source": [
    "### Linear Regression"
   ]
  },
  {
   "cell_type": "code",
   "execution_count": 10,
   "metadata": {},
   "outputs": [],
   "source": [
    "model = LinearRegression()"
   ]
  },
  {
   "cell_type": "code",
   "execution_count": 11,
   "metadata": {},
   "outputs": [
    {
     "name": "stdout",
     "output_type": "stream",
     "text": [
      "Linear Regression Cross-Validation Results: Mean MSE = 28.4670\n"
     ]
    }
   ],
   "source": [
    "cv = KFold(n_splits=10, shuffle=True, random_state=42)\n",
    "mse_scores = cross_val_score(model, train_data, train_lab, cv=cv, scoring='neg_mean_squared_error')\n",
    "print(f'Linear Regression Cross-Validation Results: Mean MSE = {-mse_scores.mean():.4f}')"
   ]
  },
  {
   "cell_type": "code",
   "execution_count": 12,
   "metadata": {},
   "outputs": [
    {
     "name": "stdout",
     "output_type": "stream",
     "text": [
      "[27.30514802  2.74825336 12.00644937 ...  2.60242436 20.02847847\n",
      "  6.55909253] \n",
      "\n",
      "Mean Squared Error:  23.190704000800352\n",
      "Mean Absolute Error:  3.047833367871028\n",
      "Mean Absolute Precentage Error:  0.6249840044629854\n",
      "R2 Score 0.718685131872334\n"
     ]
    }
   ],
   "source": [
    "model.fit(train_data,train_lab)\n",
    "\n",
    "# Testing performance\n",
    "pred_value = model.predict(test_data)\n",
    "print(pred_value,f\"\\n\")\n",
    "\n",
    "print('Mean Squared Error: ',mean_squared_error(test_lab, pred_value))\n",
    "print(\"Mean Absolute Error: \",mean_absolute_error(test_lab, pred_value))\n",
    "print(\"Mean Absolute Precentage Error: \",mean_absolute_percentage_error(test_lab, pred_value))\n",
    "print(\"R2 Score\",r2_score(test_lab, pred_value))"
   ]
  },
  {
   "cell_type": "code",
   "execution_count": 15,
   "metadata": {},
   "outputs": [
    {
     "name": "stdout",
     "output_type": "stream",
     "text": [
      "[10.11564576  5.28976317 11.5100224  ...  5.91315831  2.11551265\n",
      " 20.82035207] \n",
      "\n",
      "Mean Squared Error:  73.92331578651658\n",
      "Mean Absolute Error:  4.423907751400313\n",
      "Mean Absolute Precentage Error:  0.8221694426648422\n",
      "R2 Score 0.6251022263852403\n"
     ]
    }
   ],
   "source": [
    "# Training Performance\n",
    "pred_train = model.predict(train_data)\n",
    "print(pred_train,f\"\\n\")\n",
    "\n",
    "print('Mean Squared Error: ',mean_squared_error(train_lab, pred_train))\n",
    "print(\"Mean Absolute Error: \",mean_absolute_error(test_lab, pred_value))\n",
    "print(\"Mean Absolute Precentage Error: \",mean_absolute_percentage_error(train_lab, pred_train))\n",
    "print(\"R2 Score\",r2_score(train_lab, pred_train))"
   ]
  },
  {
   "cell_type": "markdown",
   "metadata": {},
   "source": [
    "### Random forest regressor"
   ]
  },
  {
   "cell_type": "code",
   "execution_count": 14,
   "metadata": {},
   "outputs": [],
   "source": [
    "from sklearn.ensemble import RandomForestRegressor\n",
    "model=RandomForestRegressor(n_estimators=100, random_state=42)"
   ]
  },
  {
   "cell_type": "code",
   "execution_count": 13,
   "metadata": {},
   "outputs": [],
   "source": [
    "from sklearn.ensemble import RandomForestRegressor\n",
    "model=RandomForestRegressor(n_estimators=200, random_state=42, max_depth= None)"
   ]
  },
  {
   "cell_type": "code",
   "execution_count": 15,
   "metadata": {},
   "outputs": [
    {
     "name": "stdout",
     "output_type": "stream",
     "text": [
      "Random Forest Regressor Cross-Validation Results: Mean MSE = 7.2499\n"
     ]
    }
   ],
   "source": [
    "cv = KFold(n_splits=10, shuffle=True, random_state=42)\n",
    "mse_scores = cross_val_score(model, train_data, train_lab, cv=cv, scoring='neg_mean_squared_error')\n",
    "print(f'Random Forest Regressor Cross-Validation Results: Mean MSE = {-mse_scores.mean():.4f}')"
   ]
  },
  {
   "cell_type": "code",
   "execution_count": 16,
   "metadata": {},
   "outputs": [
    {
     "name": "stdout",
     "output_type": "stream",
     "text": [
      "Fitting 3 folds for each of 81 candidates, totalling 243 fits\n"
     ]
    },
    {
     "ename": "KeyboardInterrupt",
     "evalue": "",
     "output_type": "error",
     "traceback": [
      "\u001b[1;31m---------------------------------------------------------------------------\u001b[0m",
      "\u001b[1;31mKeyboardInterrupt\u001b[0m                         Traceback (most recent call last)",
      "Cell \u001b[1;32mIn[16], line 19\u001b[0m\n\u001b[0;32m     16\u001b[0m grid_search \u001b[38;5;241m=\u001b[39m GridSearchCV(estimator\u001b[38;5;241m=\u001b[39mmodel, param_grid\u001b[38;5;241m=\u001b[39mparam_grid, cv\u001b[38;5;241m=\u001b[39m\u001b[38;5;241m3\u001b[39m, n_jobs\u001b[38;5;241m=\u001b[39m\u001b[38;5;241m-\u001b[39m\u001b[38;5;241m1\u001b[39m, verbose\u001b[38;5;241m=\u001b[39m\u001b[38;5;241m2\u001b[39m)\n\u001b[0;32m     18\u001b[0m \u001b[38;5;66;03m# Fit the model with the best parameters\u001b[39;00m\n\u001b[1;32m---> 19\u001b[0m \u001b[43mgrid_search\u001b[49m\u001b[38;5;241;43m.\u001b[39;49m\u001b[43mfit\u001b[49m\u001b[43m(\u001b[49m\u001b[43mtrain_data\u001b[49m\u001b[43m,\u001b[49m\u001b[43m \u001b[49m\u001b[43mtrain_lab\u001b[49m\u001b[43m)\u001b[49m\n\u001b[0;32m     21\u001b[0m \u001b[38;5;66;03m# Print the best parameters and best score\u001b[39;00m\n\u001b[0;32m     22\u001b[0m \u001b[38;5;28mprint\u001b[39m(\u001b[38;5;124m\"\u001b[39m\u001b[38;5;124mBest Hyperparameters:\u001b[39m\u001b[38;5;124m\"\u001b[39m, grid_search\u001b[38;5;241m.\u001b[39mbest_params_)\n",
      "File \u001b[1;32mc:\\Users\\HP\\Desktop\\cardheko\\.venv\\Lib\\site-packages\\sklearn\\base.py:1473\u001b[0m, in \u001b[0;36m_fit_context.<locals>.decorator.<locals>.wrapper\u001b[1;34m(estimator, *args, **kwargs)\u001b[0m\n\u001b[0;32m   1466\u001b[0m     estimator\u001b[38;5;241m.\u001b[39m_validate_params()\n\u001b[0;32m   1468\u001b[0m \u001b[38;5;28;01mwith\u001b[39;00m config_context(\n\u001b[0;32m   1469\u001b[0m     skip_parameter_validation\u001b[38;5;241m=\u001b[39m(\n\u001b[0;32m   1470\u001b[0m         prefer_skip_nested_validation \u001b[38;5;129;01mor\u001b[39;00m global_skip_validation\n\u001b[0;32m   1471\u001b[0m     )\n\u001b[0;32m   1472\u001b[0m ):\n\u001b[1;32m-> 1473\u001b[0m     \u001b[38;5;28;01mreturn\u001b[39;00m \u001b[43mfit_method\u001b[49m\u001b[43m(\u001b[49m\u001b[43mestimator\u001b[49m\u001b[43m,\u001b[49m\u001b[43m \u001b[49m\u001b[38;5;241;43m*\u001b[39;49m\u001b[43margs\u001b[49m\u001b[43m,\u001b[49m\u001b[43m \u001b[49m\u001b[38;5;241;43m*\u001b[39;49m\u001b[38;5;241;43m*\u001b[39;49m\u001b[43mkwargs\u001b[49m\u001b[43m)\u001b[49m\n",
      "File \u001b[1;32mc:\\Users\\HP\\Desktop\\cardheko\\.venv\\Lib\\site-packages\\sklearn\\model_selection\\_search.py:1019\u001b[0m, in \u001b[0;36mBaseSearchCV.fit\u001b[1;34m(self, X, y, **params)\u001b[0m\n\u001b[0;32m   1013\u001b[0m     results \u001b[38;5;241m=\u001b[39m \u001b[38;5;28mself\u001b[39m\u001b[38;5;241m.\u001b[39m_format_results(\n\u001b[0;32m   1014\u001b[0m         all_candidate_params, n_splits, all_out, all_more_results\n\u001b[0;32m   1015\u001b[0m     )\n\u001b[0;32m   1017\u001b[0m     \u001b[38;5;28;01mreturn\u001b[39;00m results\n\u001b[1;32m-> 1019\u001b[0m \u001b[38;5;28;43mself\u001b[39;49m\u001b[38;5;241;43m.\u001b[39;49m\u001b[43m_run_search\u001b[49m\u001b[43m(\u001b[49m\u001b[43mevaluate_candidates\u001b[49m\u001b[43m)\u001b[49m\n\u001b[0;32m   1021\u001b[0m \u001b[38;5;66;03m# multimetric is determined here because in the case of a callable\u001b[39;00m\n\u001b[0;32m   1022\u001b[0m \u001b[38;5;66;03m# self.scoring the return type is only known after calling\u001b[39;00m\n\u001b[0;32m   1023\u001b[0m first_test_score \u001b[38;5;241m=\u001b[39m all_out[\u001b[38;5;241m0\u001b[39m][\u001b[38;5;124m\"\u001b[39m\u001b[38;5;124mtest_scores\u001b[39m\u001b[38;5;124m\"\u001b[39m]\n",
      "File \u001b[1;32mc:\\Users\\HP\\Desktop\\cardheko\\.venv\\Lib\\site-packages\\sklearn\\model_selection\\_search.py:1573\u001b[0m, in \u001b[0;36mGridSearchCV._run_search\u001b[1;34m(self, evaluate_candidates)\u001b[0m\n\u001b[0;32m   1571\u001b[0m \u001b[38;5;28;01mdef\u001b[39;00m \u001b[38;5;21m_run_search\u001b[39m(\u001b[38;5;28mself\u001b[39m, evaluate_candidates):\n\u001b[0;32m   1572\u001b[0m \u001b[38;5;250m    \u001b[39m\u001b[38;5;124;03m\"\"\"Search all candidates in param_grid\"\"\"\u001b[39;00m\n\u001b[1;32m-> 1573\u001b[0m     \u001b[43mevaluate_candidates\u001b[49m\u001b[43m(\u001b[49m\u001b[43mParameterGrid\u001b[49m\u001b[43m(\u001b[49m\u001b[38;5;28;43mself\u001b[39;49m\u001b[38;5;241;43m.\u001b[39;49m\u001b[43mparam_grid\u001b[49m\u001b[43m)\u001b[49m\u001b[43m)\u001b[49m\n",
      "File \u001b[1;32mc:\\Users\\HP\\Desktop\\cardheko\\.venv\\Lib\\site-packages\\sklearn\\model_selection\\_search.py:965\u001b[0m, in \u001b[0;36mBaseSearchCV.fit.<locals>.evaluate_candidates\u001b[1;34m(candidate_params, cv, more_results)\u001b[0m\n\u001b[0;32m    957\u001b[0m \u001b[38;5;28;01mif\u001b[39;00m \u001b[38;5;28mself\u001b[39m\u001b[38;5;241m.\u001b[39mverbose \u001b[38;5;241m>\u001b[39m \u001b[38;5;241m0\u001b[39m:\n\u001b[0;32m    958\u001b[0m     \u001b[38;5;28mprint\u001b[39m(\n\u001b[0;32m    959\u001b[0m         \u001b[38;5;124m\"\u001b[39m\u001b[38;5;124mFitting \u001b[39m\u001b[38;5;132;01m{0}\u001b[39;00m\u001b[38;5;124m folds for each of \u001b[39m\u001b[38;5;132;01m{1}\u001b[39;00m\u001b[38;5;124m candidates,\u001b[39m\u001b[38;5;124m\"\u001b[39m\n\u001b[0;32m    960\u001b[0m         \u001b[38;5;124m\"\u001b[39m\u001b[38;5;124m totalling \u001b[39m\u001b[38;5;132;01m{2}\u001b[39;00m\u001b[38;5;124m fits\u001b[39m\u001b[38;5;124m\"\u001b[39m\u001b[38;5;241m.\u001b[39mformat(\n\u001b[0;32m    961\u001b[0m             n_splits, n_candidates, n_candidates \u001b[38;5;241m*\u001b[39m n_splits\n\u001b[0;32m    962\u001b[0m         )\n\u001b[0;32m    963\u001b[0m     )\n\u001b[1;32m--> 965\u001b[0m out \u001b[38;5;241m=\u001b[39m \u001b[43mparallel\u001b[49m\u001b[43m(\u001b[49m\n\u001b[0;32m    966\u001b[0m \u001b[43m    \u001b[49m\u001b[43mdelayed\u001b[49m\u001b[43m(\u001b[49m\u001b[43m_fit_and_score\u001b[49m\u001b[43m)\u001b[49m\u001b[43m(\u001b[49m\n\u001b[0;32m    967\u001b[0m \u001b[43m        \u001b[49m\u001b[43mclone\u001b[49m\u001b[43m(\u001b[49m\u001b[43mbase_estimator\u001b[49m\u001b[43m)\u001b[49m\u001b[43m,\u001b[49m\n\u001b[0;32m    968\u001b[0m \u001b[43m        \u001b[49m\u001b[43mX\u001b[49m\u001b[43m,\u001b[49m\n\u001b[0;32m    969\u001b[0m \u001b[43m        \u001b[49m\u001b[43my\u001b[49m\u001b[43m,\u001b[49m\n\u001b[0;32m    970\u001b[0m \u001b[43m        \u001b[49m\u001b[43mtrain\u001b[49m\u001b[38;5;241;43m=\u001b[39;49m\u001b[43mtrain\u001b[49m\u001b[43m,\u001b[49m\n\u001b[0;32m    971\u001b[0m \u001b[43m        \u001b[49m\u001b[43mtest\u001b[49m\u001b[38;5;241;43m=\u001b[39;49m\u001b[43mtest\u001b[49m\u001b[43m,\u001b[49m\n\u001b[0;32m    972\u001b[0m \u001b[43m        \u001b[49m\u001b[43mparameters\u001b[49m\u001b[38;5;241;43m=\u001b[39;49m\u001b[43mparameters\u001b[49m\u001b[43m,\u001b[49m\n\u001b[0;32m    973\u001b[0m \u001b[43m        \u001b[49m\u001b[43msplit_progress\u001b[49m\u001b[38;5;241;43m=\u001b[39;49m\u001b[43m(\u001b[49m\u001b[43msplit_idx\u001b[49m\u001b[43m,\u001b[49m\u001b[43m \u001b[49m\u001b[43mn_splits\u001b[49m\u001b[43m)\u001b[49m\u001b[43m,\u001b[49m\n\u001b[0;32m    974\u001b[0m \u001b[43m        \u001b[49m\u001b[43mcandidate_progress\u001b[49m\u001b[38;5;241;43m=\u001b[39;49m\u001b[43m(\u001b[49m\u001b[43mcand_idx\u001b[49m\u001b[43m,\u001b[49m\u001b[43m \u001b[49m\u001b[43mn_candidates\u001b[49m\u001b[43m)\u001b[49m\u001b[43m,\u001b[49m\n\u001b[0;32m    975\u001b[0m \u001b[43m        \u001b[49m\u001b[38;5;241;43m*\u001b[39;49m\u001b[38;5;241;43m*\u001b[39;49m\u001b[43mfit_and_score_kwargs\u001b[49m\u001b[43m,\u001b[49m\n\u001b[0;32m    976\u001b[0m \u001b[43m    \u001b[49m\u001b[43m)\u001b[49m\n\u001b[0;32m    977\u001b[0m \u001b[43m    \u001b[49m\u001b[38;5;28;43;01mfor\u001b[39;49;00m\u001b[43m \u001b[49m\u001b[43m(\u001b[49m\u001b[43mcand_idx\u001b[49m\u001b[43m,\u001b[49m\u001b[43m \u001b[49m\u001b[43mparameters\u001b[49m\u001b[43m)\u001b[49m\u001b[43m,\u001b[49m\u001b[43m \u001b[49m\u001b[43m(\u001b[49m\u001b[43msplit_idx\u001b[49m\u001b[43m,\u001b[49m\u001b[43m \u001b[49m\u001b[43m(\u001b[49m\u001b[43mtrain\u001b[49m\u001b[43m,\u001b[49m\u001b[43m \u001b[49m\u001b[43mtest\u001b[49m\u001b[43m)\u001b[49m\u001b[43m)\u001b[49m\u001b[43m \u001b[49m\u001b[38;5;129;43;01min\u001b[39;49;00m\u001b[43m \u001b[49m\u001b[43mproduct\u001b[49m\u001b[43m(\u001b[49m\n\u001b[0;32m    978\u001b[0m \u001b[43m        \u001b[49m\u001b[38;5;28;43menumerate\u001b[39;49m\u001b[43m(\u001b[49m\u001b[43mcandidate_params\u001b[49m\u001b[43m)\u001b[49m\u001b[43m,\u001b[49m\n\u001b[0;32m    979\u001b[0m \u001b[43m        \u001b[49m\u001b[38;5;28;43menumerate\u001b[39;49m\u001b[43m(\u001b[49m\u001b[43mcv\u001b[49m\u001b[38;5;241;43m.\u001b[39;49m\u001b[43msplit\u001b[49m\u001b[43m(\u001b[49m\u001b[43mX\u001b[49m\u001b[43m,\u001b[49m\u001b[43m \u001b[49m\u001b[43my\u001b[49m\u001b[43m,\u001b[49m\u001b[43m \u001b[49m\u001b[38;5;241;43m*\u001b[39;49m\u001b[38;5;241;43m*\u001b[39;49m\u001b[43mrouted_params\u001b[49m\u001b[38;5;241;43m.\u001b[39;49m\u001b[43msplitter\u001b[49m\u001b[38;5;241;43m.\u001b[39;49m\u001b[43msplit\u001b[49m\u001b[43m)\u001b[49m\u001b[43m)\u001b[49m\u001b[43m,\u001b[49m\n\u001b[0;32m    980\u001b[0m \u001b[43m    \u001b[49m\u001b[43m)\u001b[49m\n\u001b[0;32m    981\u001b[0m \u001b[43m\u001b[49m\u001b[43m)\u001b[49m\n\u001b[0;32m    983\u001b[0m \u001b[38;5;28;01mif\u001b[39;00m \u001b[38;5;28mlen\u001b[39m(out) \u001b[38;5;241m<\u001b[39m \u001b[38;5;241m1\u001b[39m:\n\u001b[0;32m    984\u001b[0m     \u001b[38;5;28;01mraise\u001b[39;00m \u001b[38;5;167;01mValueError\u001b[39;00m(\n\u001b[0;32m    985\u001b[0m         \u001b[38;5;124m\"\u001b[39m\u001b[38;5;124mNo fits were performed. \u001b[39m\u001b[38;5;124m\"\u001b[39m\n\u001b[0;32m    986\u001b[0m         \u001b[38;5;124m\"\u001b[39m\u001b[38;5;124mWas the CV iterator empty? \u001b[39m\u001b[38;5;124m\"\u001b[39m\n\u001b[0;32m    987\u001b[0m         \u001b[38;5;124m\"\u001b[39m\u001b[38;5;124mWere there no candidates?\u001b[39m\u001b[38;5;124m\"\u001b[39m\n\u001b[0;32m    988\u001b[0m     )\n",
      "File \u001b[1;32mc:\\Users\\HP\\Desktop\\cardheko\\.venv\\Lib\\site-packages\\sklearn\\utils\\parallel.py:74\u001b[0m, in \u001b[0;36mParallel.__call__\u001b[1;34m(self, iterable)\u001b[0m\n\u001b[0;32m     69\u001b[0m config \u001b[38;5;241m=\u001b[39m get_config()\n\u001b[0;32m     70\u001b[0m iterable_with_config \u001b[38;5;241m=\u001b[39m (\n\u001b[0;32m     71\u001b[0m     (_with_config(delayed_func, config), args, kwargs)\n\u001b[0;32m     72\u001b[0m     \u001b[38;5;28;01mfor\u001b[39;00m delayed_func, args, kwargs \u001b[38;5;129;01min\u001b[39;00m iterable\n\u001b[0;32m     73\u001b[0m )\n\u001b[1;32m---> 74\u001b[0m \u001b[38;5;28;01mreturn\u001b[39;00m \u001b[38;5;28;43msuper\u001b[39;49m\u001b[43m(\u001b[49m\u001b[43m)\u001b[49m\u001b[38;5;241;43m.\u001b[39;49m\u001b[38;5;21;43m__call__\u001b[39;49m\u001b[43m(\u001b[49m\u001b[43miterable_with_config\u001b[49m\u001b[43m)\u001b[49m\n",
      "File \u001b[1;32mc:\\Users\\HP\\Desktop\\cardheko\\.venv\\Lib\\site-packages\\joblib\\parallel.py:2007\u001b[0m, in \u001b[0;36mParallel.__call__\u001b[1;34m(self, iterable)\u001b[0m\n\u001b[0;32m   2001\u001b[0m \u001b[38;5;66;03m# The first item from the output is blank, but it makes the interpreter\u001b[39;00m\n\u001b[0;32m   2002\u001b[0m \u001b[38;5;66;03m# progress until it enters the Try/Except block of the generator and\u001b[39;00m\n\u001b[0;32m   2003\u001b[0m \u001b[38;5;66;03m# reaches the first `yield` statement. This starts the asynchronous\u001b[39;00m\n\u001b[0;32m   2004\u001b[0m \u001b[38;5;66;03m# dispatch of the tasks to the workers.\u001b[39;00m\n\u001b[0;32m   2005\u001b[0m \u001b[38;5;28mnext\u001b[39m(output)\n\u001b[1;32m-> 2007\u001b[0m \u001b[38;5;28;01mreturn\u001b[39;00m output \u001b[38;5;28;01mif\u001b[39;00m \u001b[38;5;28mself\u001b[39m\u001b[38;5;241m.\u001b[39mreturn_generator \u001b[38;5;28;01melse\u001b[39;00m \u001b[38;5;28;43mlist\u001b[39;49m\u001b[43m(\u001b[49m\u001b[43moutput\u001b[49m\u001b[43m)\u001b[49m\n",
      "File \u001b[1;32mc:\\Users\\HP\\Desktop\\cardheko\\.venv\\Lib\\site-packages\\joblib\\parallel.py:1650\u001b[0m, in \u001b[0;36mParallel._get_outputs\u001b[1;34m(self, iterator, pre_dispatch)\u001b[0m\n\u001b[0;32m   1647\u001b[0m     \u001b[38;5;28;01myield\u001b[39;00m\n\u001b[0;32m   1649\u001b[0m     \u001b[38;5;28;01mwith\u001b[39;00m \u001b[38;5;28mself\u001b[39m\u001b[38;5;241m.\u001b[39m_backend\u001b[38;5;241m.\u001b[39mretrieval_context():\n\u001b[1;32m-> 1650\u001b[0m         \u001b[38;5;28;01myield from\u001b[39;00m \u001b[38;5;28mself\u001b[39m\u001b[38;5;241m.\u001b[39m_retrieve()\n\u001b[0;32m   1652\u001b[0m \u001b[38;5;28;01mexcept\u001b[39;00m \u001b[38;5;167;01mGeneratorExit\u001b[39;00m:\n\u001b[0;32m   1653\u001b[0m     \u001b[38;5;66;03m# The generator has been garbage collected before being fully\u001b[39;00m\n\u001b[0;32m   1654\u001b[0m     \u001b[38;5;66;03m# consumed. This aborts the remaining tasks if possible and warn\u001b[39;00m\n\u001b[0;32m   1655\u001b[0m     \u001b[38;5;66;03m# the user if necessary.\u001b[39;00m\n\u001b[0;32m   1656\u001b[0m     \u001b[38;5;28mself\u001b[39m\u001b[38;5;241m.\u001b[39m_exception \u001b[38;5;241m=\u001b[39m \u001b[38;5;28;01mTrue\u001b[39;00m\n",
      "File \u001b[1;32mc:\\Users\\HP\\Desktop\\cardheko\\.venv\\Lib\\site-packages\\joblib\\parallel.py:1762\u001b[0m, in \u001b[0;36mParallel._retrieve\u001b[1;34m(self)\u001b[0m\n\u001b[0;32m   1757\u001b[0m \u001b[38;5;66;03m# If the next job is not ready for retrieval yet, we just wait for\u001b[39;00m\n\u001b[0;32m   1758\u001b[0m \u001b[38;5;66;03m# async callbacks to progress.\u001b[39;00m\n\u001b[0;32m   1759\u001b[0m \u001b[38;5;28;01mif\u001b[39;00m ((\u001b[38;5;28mlen\u001b[39m(\u001b[38;5;28mself\u001b[39m\u001b[38;5;241m.\u001b[39m_jobs) \u001b[38;5;241m==\u001b[39m \u001b[38;5;241m0\u001b[39m) \u001b[38;5;129;01mor\u001b[39;00m\n\u001b[0;32m   1760\u001b[0m     (\u001b[38;5;28mself\u001b[39m\u001b[38;5;241m.\u001b[39m_jobs[\u001b[38;5;241m0\u001b[39m]\u001b[38;5;241m.\u001b[39mget_status(\n\u001b[0;32m   1761\u001b[0m         timeout\u001b[38;5;241m=\u001b[39m\u001b[38;5;28mself\u001b[39m\u001b[38;5;241m.\u001b[39mtimeout) \u001b[38;5;241m==\u001b[39m TASK_PENDING)):\n\u001b[1;32m-> 1762\u001b[0m     \u001b[43mtime\u001b[49m\u001b[38;5;241;43m.\u001b[39;49m\u001b[43msleep\u001b[49m\u001b[43m(\u001b[49m\u001b[38;5;241;43m0.01\u001b[39;49m\u001b[43m)\u001b[49m\n\u001b[0;32m   1763\u001b[0m     \u001b[38;5;28;01mcontinue\u001b[39;00m\n\u001b[0;32m   1765\u001b[0m \u001b[38;5;66;03m# We need to be careful: the job list can be filling up as\u001b[39;00m\n\u001b[0;32m   1766\u001b[0m \u001b[38;5;66;03m# we empty it and Python list are not thread-safe by\u001b[39;00m\n\u001b[0;32m   1767\u001b[0m \u001b[38;5;66;03m# default hence the use of the lock\u001b[39;00m\n",
      "\u001b[1;31mKeyboardInterrupt\u001b[0m: "
     ]
    }
   ],
   "source": [
    "from sklearn.model_selection import GridSearchCV\n",
    "from sklearn.ensemble import RandomForestRegressor\n",
    "\n",
    "# Create a RandomForest model\n",
    "model = RandomForestRegressor()\n",
    "\n",
    "# Define the hyperparameter grid to search\n",
    "param_grid = {\n",
    "    'n_estimators': [100, 200, 300],\n",
    "    'max_depth': [10, 20, None],\n",
    "    'min_samples_split': [2, 5, 10],\n",
    "    'min_samples_leaf': [1, 2, 4],\n",
    "}\n",
    "\n",
    "# Set up GridSearchCV\n",
    "grid_search = GridSearchCV(estimator=model, param_grid=param_grid, cv=3, n_jobs=-1, verbose=2)\n",
    "\n",
    "# Fit the model with the best parameters\n",
    "grid_search.fit(train_data, train_lab)\n",
    "\n",
    "# Print the best parameters and best score\n",
    "print(\"Best Hyperparameters:\", grid_search.best_params_)\n",
    "print(\"Best Score:\", grid_search.best_score_)\n"
   ]
  },
  {
   "cell_type": "code",
   "execution_count": 24,
   "metadata": {},
   "outputs": [
    {
     "name": "stdout",
     "output_type": "stream",
     "text": [
      "Best Hyperparameters: {'max_depth': None, 'n_estimators': 200}\n"
     ]
    }
   ],
   "source": [
    "from sklearn.ensemble import RandomForestRegressor\n",
    "from sklearn.model_selection import GridSearchCV\n",
    "\n",
    "# Define the model\n",
    "model = RandomForestRegressor()\n",
    "\n",
    "# Define hyperparameters and their possible values\n",
    "param_grid = {\n",
    "    'n_estimators': [100, 200, 300],  # Number of trees\n",
    "    'max_depth': [10, 20, None]        # Max depth of the tree\n",
    "}\n",
    "\n",
    "# Setup GridSearchCV\n",
    "grid_search = GridSearchCV(estimator=model, param_grid=param_grid, cv=3)\n",
    "\n",
    "# Fit the model and search for the best parameters\n",
    "grid_search.fit(train_data, train_lab)\n",
    "\n",
    "# Print the best hyperparameters\n",
    "print(\"Best Hyperparameters:\", grid_search.best_params_)\n"
   ]
  },
  {
   "cell_type": "code",
   "execution_count": 17,
   "metadata": {},
   "outputs": [
    {
     "name": "stdout",
     "output_type": "stream",
     "text": [
      "[26.8385      4.924       8.8454     ...  3.15481667 18.\n",
      "  3.246752  ] \n",
      "\n",
      "Mean Squared Error:  5.120263393980845\n",
      "Mean Absolute Error:  1.0647030826662773\n",
      "Mean Absolute Precentage Error:  0.1467773321305869\n",
      "R2 Score 0.9378886375589579\n"
     ]
    }
   ],
   "source": [
    "model.fit(train_data,train_lab)\n",
    "\n",
    "# Testing performance\n",
    "pred_value = model.predict(test_data)\n",
    "print(pred_value,f'\\n')\n",
    "\n",
    "print('Mean Squared Error: ',mean_squared_error(test_lab, pred_value))\n",
    "print(\"Mean Absolute Error: \",mean_absolute_error(test_lab, pred_value))\n",
    "print(\"Mean Absolute Precentage Error: \",mean_absolute_percentage_error(test_lab, pred_value))\n",
    "print(\"R2 Score\",r2_score(test_lab, pred_value))"
   ]
  },
  {
   "cell_type": "code",
   "execution_count": 28,
   "metadata": {},
   "outputs": [
    {
     "name": "stdout",
     "output_type": "stream",
     "text": [
      "[3.8698     1.57598485 3.4831     ... 5.3031     6.5935     4.89425   ] \n",
      "\n",
      "Mean Squared Error:  0.9570172960261618\n",
      "Mean Absolute Error:  1.0700088679262831\n",
      "Mean Absolute Precentage Error:  0.05511432493740639\n",
      "R2 Score:  0.9903135756888073\n"
     ]
    }
   ],
   "source": [
    "# Training Performance\n",
    "pred_train = model.predict(train_data)\n",
    "print(pred_train,f'\\n')\n",
    "\n",
    "print('Mean Squared Error: ',mean_squared_error(train_lab, pred_train))\n",
    "print(\"Mean Absolute Error: \",mean_absolute_error(test_lab, pred_value))\n",
    "print(\"Mean Absolute Precentage Error: \",mean_absolute_percentage_error(train_lab, pred_train))\n",
    "print(\"R2 Score: \",r2_score(train_lab, pred_train))"
   ]
  },
  {
   "cell_type": "code",
   "execution_count": 18,
   "metadata": {},
   "outputs": [],
   "source": [
    "with open('randomforest_model.pkl', 'wb') as file:\n",
    "    pickle.dump(model, file)"
   ]
  },
  {
   "cell_type": "code",
   "execution_count": null,
   "metadata": {},
   "outputs": [],
   "source": []
  },
  {
   "cell_type": "markdown",
   "metadata": {},
   "source": [
    "### Decision tree regressor"
   ]
  },
  {
   "cell_type": "code",
   "execution_count": 18,
   "metadata": {},
   "outputs": [],
   "source": [
    "from sklearn.tree import DecisionTreeRegressor\n",
    "model=DecisionTreeRegressor(random_state=42)"
   ]
  },
  {
   "cell_type": "code",
   "execution_count": 19,
   "metadata": {},
   "outputs": [
    {
     "name": "stdout",
     "output_type": "stream",
     "text": [
      "Decision Tree Regressor Cross-Validation Results: Mean MSE = 13.3378\n"
     ]
    }
   ],
   "source": [
    "cv = KFold(n_splits=10, shuffle=True, random_state=42)\n",
    "mse_scores = cross_val_score(model, train_data, train_lab, cv=cv, scoring='neg_mean_squared_error')\n",
    "print(f'Decision Tree Regressor Cross-Validation Results: Mean MSE = {-mse_scores.mean():.4f}')"
   ]
  },
  {
   "cell_type": "code",
   "execution_count": 20,
   "metadata": {},
   "outputs": [
    {
     "name": "stdout",
     "output_type": "stream",
     "text": [
      "[15.49  5.25  6.   ...  3.11 16.75  3.5 ] \n",
      "\n",
      "Mean Squared Error:  8.897339949666934\n",
      "Mean Absolute Error:  1.4784085582822086\n",
      "Mean Absolute Precentage Error:  0.2008354269089165\n",
      "R2 Score:  0.8920708049854292\n"
     ]
    }
   ],
   "source": [
    "model.fit(train_data,train_lab)\n",
    "\n",
    "# Testing performance\n",
    "pred_value = model.predict(test_data)\n",
    "print(pred_value,f'\\n')\n",
    "\n",
    "print('Mean Squared Error: ',mean_squared_error(test_lab, pred_value))\n",
    "print(\"Mean Absolute Error: \",mean_absolute_error(test_lab, pred_value))\n",
    "print(\"Mean Absolute Precentage Error: \",mean_absolute_percentage_error(test_lab, pred_value))\n",
    "print(\"R2 Score: \",r2_score(test_lab, pred_value))"
   ]
  },
  {
   "cell_type": "code",
   "execution_count": 26,
   "metadata": {},
   "outputs": [
    {
     "name": "stdout",
     "output_type": "stream",
     "text": [
      "[ 9.    6.05  9.25 ...  7.95  7.11 10.15] \n",
      "\n",
      "Mean Squared Error:  0.013981134311797047\n",
      "Mean Absolute Error:  2.052534555353902\n",
      "Mean Absolute Precentage Error:  0.0006502910860777476\n",
      "R2 Score 0.9999290954948337\n"
     ]
    }
   ],
   "source": [
    "# Training Performance\n",
    "pred_train = model.predict(train_data)\n",
    "print(pred_train,f'\\n')\n",
    "\n",
    "print('Mean Squared Error: ',mean_squared_error(train_lab, pred_train))\n",
    "print(\"Mean Absolute Error: \",mean_absolute_error(test_lab, pred_value))\n",
    "print(\"Mean Absolute Precentage Error: \",mean_absolute_percentage_error(train_lab, pred_train))\n",
    "print(\"R2 Score\",r2_score(train_lab, pred_train))"
   ]
  },
  {
   "cell_type": "markdown",
   "metadata": {},
   "source": [
    "### Gradient boosting regressor"
   ]
  },
  {
   "cell_type": "code",
   "execution_count": 21,
   "metadata": {},
   "outputs": [],
   "source": [
    "from sklearn.ensemble import GradientBoostingRegressor\n",
    "model=GradientBoostingRegressor(n_estimators=100,random_state=42)"
   ]
  },
  {
   "cell_type": "code",
   "execution_count": 22,
   "metadata": {},
   "outputs": [
    {
     "name": "stdout",
     "output_type": "stream",
     "text": [
      "Gradient Boosting Regressor Cross-Validation Results: Mean MSE = 8.2221\n"
     ]
    }
   ],
   "source": [
    "cv = KFold(n_splits=10, shuffle=True, random_state=42)\n",
    "mse_scores = cross_val_score(model, train_data, train_lab, cv=cv, scoring='neg_mean_squared_error')\n",
    "print(f'Gradient Boosting Regressor Cross-Validation Results: Mean MSE = {-mse_scores.mean():.4f}')"
   ]
  },
  {
   "cell_type": "code",
   "execution_count": 23,
   "metadata": {},
   "outputs": [
    {
     "name": "stdout",
     "output_type": "stream",
     "text": [
      "[26.33665285  4.71752468  9.21768755 ...  3.06537541 21.36555667\n",
      "  5.09748236] \n",
      "\n",
      "Mean Squared Error:  6.048806772200883\n",
      "Mean Absolute Error:  1.2950243855931727\n",
      "Mean Absolute Precentage Error:  0.18722971089733936\n",
      "R2 Score 0.9266249407783094\n"
     ]
    }
   ],
   "source": [
    "model.fit(train_data,train_lab)\n",
    "\n",
    "# Testing performance\n",
    "pred_value = model.predict(test_data)\n",
    "print(pred_value,f'\\n')\n",
    "\n",
    "print('Mean Squared Error: ',mean_squared_error(test_lab, pred_value))\n",
    "print(\"Mean Absolute Error: \",mean_absolute_error(test_lab, pred_value))\n",
    "print(\"Mean Absolute Precentage Error: \",mean_absolute_percentage_error(test_lab, pred_value))\n",
    "print(\"R2 Score\",r2_score(test_lab, pred_value))"
   ]
  },
  {
   "cell_type": "code",
   "execution_count": 30,
   "metadata": {},
   "outputs": [
    {
     "name": "stdout",
     "output_type": "stream",
     "text": [
      "[ 8.69497126  5.96133851  8.35980442 ...  6.99124982  7.28144356\n",
      " 10.81155957] \n",
      "\n",
      "Mean Squared Error:  6.849721143567494\n",
      "Mean Absolute Error:  1.876505401200873\n",
      "Mean Absolute Precentage Error:  0.19630897056309846\n",
      "R2 Score 0.9652620397328852\n"
     ]
    }
   ],
   "source": [
    "# Training Performance\n",
    "pred_train = model.predict(train_data)\n",
    "print(pred_train,f'\\n')\n",
    "\n",
    "print('Mean Squared Error: ',mean_squared_error(train_lab, pred_train))\n",
    "print(\"Mean Absolute Error: \",mean_absolute_error(test_lab, pred_value))\n",
    "print(\"Mean Absolute Precentage Error: \",mean_absolute_percentage_error(train_lab, pred_train))\n",
    "print(\"R2 Score\",r2_score(train_lab, pred_train))"
   ]
  },
  {
   "cell_type": "code",
   "execution_count": null,
   "metadata": {},
   "outputs": [],
   "source": [
    "import xgboost as xgb"
   ]
  },
  {
   "cell_type": "markdown",
   "metadata": {},
   "source": [
    "# Testing the model"
   ]
  },
  {
   "cell_type": "code",
   "execution_count": 31,
   "metadata": {},
   "outputs": [],
   "source": [
    "with open('randomforest_model.pkl', 'rb') as file:\n",
    "    model = pickle.load(file)"
   ]
  },
  {
   "cell_type": "code",
   "execution_count": 33,
   "metadata": {},
   "outputs": [
    {
     "data": {
      "text/plain": [
       "Index([2651, 8147, 3817,  263, 1593, 3080, 5711, 7173, 1559, 5146,\n",
       "       ...\n",
       "       3518, 3892, 3753, 2094, 2252,  418, 6836, 6831, 7972,  293],\n",
       "      dtype='int64', length=665)"
      ]
     },
     "execution_count": 33,
     "metadata": {},
     "output_type": "execute_result"
    }
   ],
   "source": [
    "test_data.index[test_lab> 7]"
   ]
  },
  {
   "cell_type": "code",
   "execution_count": 34,
   "metadata": {},
   "outputs": [
    {
     "data": {
      "text/html": [
       "<div>\n",
       "<style scoped>\n",
       "    .dataframe tbody tr th:only-of-type {\n",
       "        vertical-align: middle;\n",
       "    }\n",
       "\n",
       "    .dataframe tbody tr th {\n",
       "        vertical-align: top;\n",
       "    }\n",
       "\n",
       "    .dataframe thead th {\n",
       "        text-align: right;\n",
       "    }\n",
       "</style>\n",
       "<table border=\"1\" class=\"dataframe\">\n",
       "  <thead>\n",
       "    <tr style=\"text-align: right;\">\n",
       "      <th></th>\n",
       "      <th>km</th>\n",
       "      <th>Max Power</th>\n",
       "      <th>Mileage</th>\n",
       "      <th>Insurance Validity</th>\n",
       "      <th>modelYear</th>\n",
       "      <th>owner</th>\n",
       "      <th>No of Cylinder</th>\n",
       "      <th>oem</th>\n",
       "      <th>bt</th>\n",
       "      <th>city</th>\n",
       "      <th>Color</th>\n",
       "      <th>Seats</th>\n",
       "      <th>ft</th>\n",
       "      <th>transmission</th>\n",
       "      <th>Wheel Base</th>\n",
       "    </tr>\n",
       "  </thead>\n",
       "  <tbody>\n",
       "    <tr>\n",
       "      <th>2651</th>\n",
       "      <td>30000</td>\n",
       "      <td>187.74</td>\n",
       "      <td>18.25</td>\n",
       "      <td>2.0</td>\n",
       "      <td>21.0</td>\n",
       "      <td>3.0</td>\n",
       "      <td>3</td>\n",
       "      <td>0</td>\n",
       "      <td>8</td>\n",
       "      <td>0</td>\n",
       "      <td>119</td>\n",
       "      <td>3</td>\n",
       "      <td>1</td>\n",
       "      <td>0</td>\n",
       "      <td>2820</td>\n",
       "    </tr>\n",
       "    <tr>\n",
       "      <th>8147</th>\n",
       "      <td>50000</td>\n",
       "      <td>108.50</td>\n",
       "      <td>21.50</td>\n",
       "      <td>1.0</td>\n",
       "      <td>24.0</td>\n",
       "      <td>3.0</td>\n",
       "      <td>3</td>\n",
       "      <td>29</td>\n",
       "      <td>7</td>\n",
       "      <td>3</td>\n",
       "      <td>78</td>\n",
       "      <td>3</td>\n",
       "      <td>1</td>\n",
       "      <td>0</td>\n",
       "      <td>2498</td>\n",
       "    </tr>\n",
       "    <tr>\n",
       "      <th>3817</th>\n",
       "      <td>38506</td>\n",
       "      <td>126.20</td>\n",
       "      <td>22.00</td>\n",
       "      <td>1.0</td>\n",
       "      <td>24.0</td>\n",
       "      <td>4.0</td>\n",
       "      <td>3</td>\n",
       "      <td>9</td>\n",
       "      <td>8</td>\n",
       "      <td>5</td>\n",
       "      <td>50</td>\n",
       "      <td>3</td>\n",
       "      <td>1</td>\n",
       "      <td>0</td>\n",
       "      <td>2600</td>\n",
       "    </tr>\n",
       "    <tr>\n",
       "      <th>263</th>\n",
       "      <td>35000</td>\n",
       "      <td>194.00</td>\n",
       "      <td>17.00</td>\n",
       "      <td>2.0</td>\n",
       "      <td>26.0</td>\n",
       "      <td>4.0</td>\n",
       "      <td>3</td>\n",
       "      <td>21</td>\n",
       "      <td>7</td>\n",
       "      <td>1</td>\n",
       "      <td>9</td>\n",
       "      <td>3</td>\n",
       "      <td>1</td>\n",
       "      <td>0</td>\n",
       "      <td>2873</td>\n",
       "    </tr>\n",
       "    <tr>\n",
       "      <th>1593</th>\n",
       "      <td>46602</td>\n",
       "      <td>88.70</td>\n",
       "      <td>17.50</td>\n",
       "      <td>2.0</td>\n",
       "      <td>23.0</td>\n",
       "      <td>4.0</td>\n",
       "      <td>3</td>\n",
       "      <td>8</td>\n",
       "      <td>7</td>\n",
       "      <td>0</td>\n",
       "      <td>14</td>\n",
       "      <td>3</td>\n",
       "      <td>4</td>\n",
       "      <td>1</td>\n",
       "      <td>2555</td>\n",
       "    </tr>\n",
       "    <tr>\n",
       "      <th>3080</th>\n",
       "      <td>138726</td>\n",
       "      <td>168.50</td>\n",
       "      <td>13.00</td>\n",
       "      <td>2.0</td>\n",
       "      <td>19.0</td>\n",
       "      <td>4.0</td>\n",
       "      <td>3</td>\n",
       "      <td>30</td>\n",
       "      <td>7</td>\n",
       "      <td>5</td>\n",
       "      <td>50</td>\n",
       "      <td>5</td>\n",
       "      <td>1</td>\n",
       "      <td>1</td>\n",
       "      <td>2750</td>\n",
       "    </tr>\n",
       "  </tbody>\n",
       "</table>\n",
       "</div>"
      ],
      "text/plain": [
       "          km  Max Power  Mileage  Insurance Validity  modelYear  owner  \\\n",
       "2651   30000     187.74    18.25                 2.0       21.0    3.0   \n",
       "8147   50000     108.50    21.50                 1.0       24.0    3.0   \n",
       "3817   38506     126.20    22.00                 1.0       24.0    4.0   \n",
       "263    35000     194.00    17.00                 2.0       26.0    4.0   \n",
       "1593   46602      88.70    17.50                 2.0       23.0    4.0   \n",
       "3080  138726     168.50    13.00                 2.0       19.0    4.0   \n",
       "\n",
       "      No of Cylinder  oem  bt  city  Color  Seats  ft  transmission  \\\n",
       "2651               3    0   8     0    119      3   1             0   \n",
       "8147               3   29   7     3     78      3   1             0   \n",
       "3817               3    9   8     5     50      3   1             0   \n",
       "263                3   21   7     1      9      3   1             0   \n",
       "1593               3    8   7     0     14      3   4             1   \n",
       "3080               3   30   7     5     50      5   1             1   \n",
       "\n",
       "      Wheel Base  \n",
       "2651        2820  \n",
       "8147        2498  \n",
       "3817        2600  \n",
       "263         2873  \n",
       "1593        2555  \n",
       "3080        2750  "
      ]
     },
     "execution_count": 34,
     "metadata": {},
     "output_type": "execute_result"
    }
   ],
   "source": [
    "a=[2651, 8147, 3817,  263, 1593, 3080]\n",
    "df.iloc[a].drop('price (lakh)', axis = 1)"
   ]
  },
  {
   "cell_type": "code",
   "execution_count": 35,
   "metadata": {},
   "outputs": [
    {
     "name": "stdout",
     "output_type": "stream",
     "text": [
      "2651    21.00\n",
      "8147     8.50\n",
      "3817     9.00\n",
      "263     62.00\n",
      "1593     8.65\n",
      "3080    13.00\n",
      "Name: price (lakh), dtype: float64\n"
     ]
    }
   ],
   "source": [
    "print(df.loc[a,\"price (lakh)\"])"
   ]
  },
  {
   "cell_type": "code",
   "execution_count": 36,
   "metadata": {},
   "outputs": [
    {
     "name": "stdout",
     "output_type": "stream",
     "text": [
      "25.89\n",
      "8.82\n",
      "9.93\n",
      "55.83\n",
      "7.96\n",
      "14.58\n"
     ]
    }
   ],
   "source": [
    "predicted=model.predict(df.loc[a].drop('price (lakh)', axis = 1))\n",
    "for i in predicted:\n",
    "    print(f\"{i:.2f}\")"
   ]
  },
  {
   "cell_type": "code",
   "execution_count": null,
   "metadata": {},
   "outputs": [],
   "source": [
    "test_lab.loc[test_lab>=200]"
   ]
  },
  {
   "cell_type": "code",
   "execution_count": 38,
   "metadata": {},
   "outputs": [
    {
     "data": {
      "text/plain": [
       "Text(0.5, 1.0, 'km vs price')"
      ]
     },
     "execution_count": 38,
     "metadata": {},
     "output_type": "execute_result"
    },
    {
     "data": {
      "image/png": "[encoded data removed]",
      "text/plain": [
       "<Figure size 1000x600 with 1 Axes>"
      ]
     },
     "metadata": {},
     "output_type": "display_data"
    }
   ],
   "source": [
    "import matplotlib.pyplot as plt\n",
    "import seaborn as sns\n",
    "\n",
    "fig= plt.figure(figsize=(10,6))\n",
    "sns.scatterplot(x='km', y='price (lakh)', data=df)\n",
    "plt.title('km vs price')"
   ]
  }
 ],
 "metadata": {
  "kernelspec": {
   "display_name": ".venv",
   "language": "python",
   "name": "python3"
  },
  "language_info": {
   "codemirror_mode": {
    "name": "ipython",
    "version": 3
   },
   "file_extension": ".py",
   "mimetype": "text/x-python",
   "name": "python",
   "nbconvert_exporter": "python",
   "pygments_lexer": "ipython3",
   "version": "3.12.4"
  }
 },
 "nbformat": 4,
 "nbformat_minor": 2
}
